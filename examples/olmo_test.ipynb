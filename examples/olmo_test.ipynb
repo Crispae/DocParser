{
 "cells": [
  {
   "cell_type": "code",
   "execution_count": 1,
   "id": "cdc6c64c",
   "metadata": {},
   "outputs": [],
   "source": [
    "import sys\n",
    "import os\n",
    "\n",
    "# Adjust the path to point to the project root\n",
    "project_root = os.path.abspath(os.path.join(os.getcwd(), \"..\"))\n",
    "if project_root not in sys.path:\n",
    "    sys.path.insert(0, project_root)"
   ]
  },
  {
   "cell_type": "code",
   "execution_count": 2,
   "id": "fb5d9b78",
   "metadata": {},
   "outputs": [
    {
     "name": "stderr",
     "output_type": "stream",
     "text": [
      "c:\\Users\\saurav\\OneDrive - URV\\Escritorio\\BfR\\DocParser\\ocr\\Lib\\site-packages\\tqdm\\auto.py:21: TqdmWarning: IProgress not found. Please update jupyter and ipywidgets. See https://ipywidgets.readthedocs.io/en/stable/user_install.html\n",
      "  from .autonotebook import tqdm as notebook_tqdm\n"
     ]
    }
   ],
   "source": [
    "import DocParser\n"
   ]
  },
  {
   "cell_type": "code",
   "execution_count": 3,
   "id": "8ada2fee",
   "metadata": {},
   "outputs": [],
   "source": [
    "from DocParser import DocParser, OCREngine\n",
    "from DocParser.Config.OCRConfig import OCRConfig\n",
    "from DocParser.Config.ModelConfig import ModelConfig"
   ]
  },
  {
   "cell_type": "code",
   "execution_count": 4,
   "id": "00cbcdae",
   "metadata": {},
   "outputs": [],
   "source": [
    "# Create configurations\n",
    "config = OCRConfig(confidence_threshold=0.7,\n",
    "            preserve_layout=True,\n",
    "            extract_tables=True\n",
    "        )"
   ]
  },
  {
   "cell_type": "code",
   "execution_count": 5,
   "id": "d2751d61",
   "metadata": {},
   "outputs": [],
   "source": [
    "model_config = ModelConfig(\n",
    "        device=\"cuda\",  # Use \"cuda\" if GPU is available\n",
    "        batch_size=3,\n",
    "        gpu_id=0\n",
    "    )"
   ]
  },
  {
   "cell_type": "code",
   "execution_count": 6,
   "id": "2a54c510",
   "metadata": {},
   "outputs": [],
   "source": [
    "image_path = \"data/test1.jpg\"\n",
    "pdf_path = \"data/pdf1.pdf\""
   ]
  },
  {
   "cell_type": "code",
   "execution_count": 7,
   "id": "59999c72",
   "metadata": {},
   "outputs": [
    {
     "name": "stderr",
     "output_type": "stream",
     "text": [
      "INFO:OlmocrEngine:Initializing OlmOCR engine (direct model inference)\n",
      "Using a slow image processor as `use_fast` is unset and a slow processor was saved with this model. `use_fast=True` will be the default behavior in v4.52, even if the model was saved with a slow processor. This will result in minor differences in outputs. You'll still be able to use a slow processor with `use_fast=False`.\n",
      "You have video processor config saved in `preprocessor.json` file which is deprecated. Video processor configs should be saved in their own `video_preprocessor.json` file. You can rename the file or load and save the processor back which renames it automatically. Loading from `preprocessor.json` will be removed in v5.0.\n",
      "Loading checkpoint shards: 100%|██████████| 4/4 [00:30<00:00,  7.52s/it]\n",
      "INFO:OlmocrEngine:Using CUDA device\n",
      "INFO:DocParser:Initialized olmocr OCR engine successfully\n",
      "INFO:OlmocrEngine:Processing image: data/test1.jpg\n"
     ]
    }
   ],
   "source": [
    "with DocParser(OCREngine.OLMOCR, config, model_config) as parser:\n",
    "            \n",
    "            if os.path.exists(image_path):\n",
    "                result = parser.process_image(image_path)\n",
    "            \n",
    "            else:\n",
    "                print(f\"   Image file not found: {image_path}\")"
   ]
  },
  {
   "cell_type": "code",
   "execution_count": 8,
   "id": "d98cfb7a",
   "metadata": {},
   "outputs": [
    {
     "name": "stdout",
     "output_type": "stream",
     "text": [
      "{\n",
      "  \"text\": \"Again, we say All over the world when we should say Over all the world, and the reason why instead of the reason that. Usage has made our language what it is; grammatical rules strive to limit it to what it ought to be. In many instances usage has supplanted grammatical rules. Hundreds of words have been used by masters of English in ways that violate these rules. These uses are to be found to-day recorded by the dictionaries because lexicographers recognize it is their duty to present the language as they find it used by the people. It is to the people, not to the purists, that one must look for the enriching of our mother tongue. To them it is as impossible to confine the English language within the bonds of grammatical rules as it is to stem the tide of the sea. For them all matters that relate to English speech can be decided only by the law of good usage. This, and this alone is their Court of Last Resort. Withal, the observance of certain conventional rules does no harm if it helps him who speaks carelessly to produce a refined style of diction and writing, or if it teaches him who does not know, what to say and how to say it. The secret of strength in speech and writing lies in the art of using the right word in the right place; therefore, careful speakers and writers should aim to command not only a large vocabulary but a\",\n",
      "  \"elements\": [\n",
      "    {\n",
      "      \"text\": \"Again, we say All over the world when we should say Over all the world, and the reason why instead of the reason that. Usage has made our language what it is; grammatical rules strive to limit it to what it ought to be. In many instances usage has supplanted grammatical rules. Hundreds of words have been used by masters of English in ways that violate these rules. These uses are to be found to-day recorded by the dictionaries because lexicographers recognize it is their duty to present the language as they find it used by the people. It is to the people, not to the purists, that one must look for the enriching of our mother tongue. To them it is as impossible to confine the English language within the bonds of grammatical rules as it is to stem the tide of the sea. For them all matters that relate to English speech can be decided only by the law of good usage. This, and this alone is their Court of Last Resort. Withal, the observance of certain conventional rules does no harm if it helps him who speaks carelessly to produce a refined style of diction and writing, or if it teaches him who does not know, what to say and how to say it. The secret of strength in speech and writing lies in the art of using the right word in the right place; therefore, careful speakers and writers should aim to command not only a large vocabulary but a\",\n",
      "      \"confidence\": 0.9,\n",
      "      \"bbox\": null,\n",
      "      \"element_type\": \"document\",\n",
      "      \"page_number\": 0\n",
      "    }\n",
      "  ],\n",
      "  \"metadata\": {\n",
      "    \"model_name\": \"olmOCR-7B\",\n",
      "    \"source_file\": \"data/test1.jpg\"\n",
      "  },\n",
      "  \"processing_time\": 1258.9511053562164,\n",
      "  \"model_name\": \"OlmOCR\",\n",
      "  \"confidence_score\": null\n",
      "}\n"
     ]
    }
   ],
   "source": [
    "import json\n",
    "from dataclasses import asdict\n",
    "\n",
    "## Print the result in a readable format\n",
    "json_str = json.dumps(asdict(result), indent=2)\n",
    "print(json_str)"
   ]
  },
  {
   "cell_type": "code",
   "execution_count": null,
   "id": "ee0b73f7",
   "metadata": {},
   "outputs": [],
   "source": []
  }
 ],
 "metadata": {
  "kernelspec": {
   "display_name": "ocr",
   "language": "python",
   "name": "python3"
  },
  "language_info": {
   "codemirror_mode": {
    "name": "ipython",
    "version": 3
   },
   "file_extension": ".py",
   "mimetype": "text/x-python",
   "name": "python",
   "nbconvert_exporter": "python",
   "pygments_lexer": "ipython3",
   "version": "3.12.6"
  }
 },
 "nbformat": 4,
 "nbformat_minor": 5
}
