{
 "cells": [
  {
   "cell_type": "code",
   "execution_count": 1,
   "id": "3e42ea7a",
   "metadata": {},
   "outputs": [],
   "source": [
    "import sys\n",
    "import os\n",
    "\n",
    "# Adjust the path to point to the project root\n",
    "project_root = os.path.abspath(os.path.join(os.getcwd(), \"..\"))\n",
    "if project_root not in sys.path:\n",
    "    sys.path.insert(0, project_root)"
   ]
  },
  {
   "cell_type": "code",
   "execution_count": 2,
   "id": "c2d38bba",
   "metadata": {},
   "outputs": [],
   "source": [
    "import DocParser"
   ]
  },
  {
   "cell_type": "code",
   "execution_count": 7,
   "id": "462927dc",
   "metadata": {},
   "outputs": [],
   "source": [
    "from DocParser import DocParser, OCREngine\n",
    "from DocParser.Config.OCRConfig import OCRConfig\n",
    "from DocParser.Config.ModelConfig import ModelConfig"
   ]
  },
  {
   "cell_type": "code",
   "execution_count": 8,
   "id": "0585f052",
   "metadata": {},
   "outputs": [],
   "source": [
    "# Create configurations\n",
    "config = OCRConfig(confidence_threshold=0.7,\n",
    "            preserve_layout=True,\n",
    "            extract_tables=True\n",
    "        )"
   ]
  },
  {
   "cell_type": "code",
   "execution_count": 9,
   "id": "25ea45f2",
   "metadata": {},
   "outputs": [],
   "source": [
    "model_config = ModelConfig(\n",
    "        device=\"cuda\",  # Use \"cuda\" if GPU is available\n",
    "        batch_size=3,\n",
    "        gpu_id=0\n",
    "    )"
   ]
  },
  {
   "cell_type": "code",
   "execution_count": 10,
   "id": "10171127",
   "metadata": {},
   "outputs": [],
   "source": [
    "image_path = \"data/test1.jpg\"\n",
    "pdf_path = \"data/pdf1.pdf\""
   ]
  },
  {
   "cell_type": "code",
   "execution_count": 11,
   "id": "667dd4ef",
   "metadata": {},
   "outputs": [
    {
     "name": "stderr",
     "output_type": "stream",
     "text": [
      "INFO:SmallDoclingEngine:Initializing SmolDocling engine\n"
     ]
    },
    {
     "name": "stdout",
     "output_type": "stream",
     "text": [
      "DEBUG: model_config.device = cuda\n"
     ]
    },
    {
     "name": "stderr",
     "output_type": "stream",
     "text": [
      "INFO:DocParser:Initialized small_docling OCR engine successfully\n"
     ]
    },
    {
     "name": "stdout",
     "output_type": "stream",
     "text": [
      "Model device: cuda:0\n"
     ]
    },
    {
     "name": "stderr",
     "output_type": "stream",
     "text": [
      "Truncation was not explicitly activated but `max_length` is provided a specific value, please use `truncation=True` to explicitly truncate examples to max length. Defaulting to 'longest_first' truncation strategy. If you encode pairs of sequences (GLUE-style) with the tokenizer you can select this strategy more precisely by providing a specific strategy to `truncation`.\n"
     ]
    }
   ],
   "source": [
    "try:\n",
    "    with DocParser(OCREngine.SMALL_DOCLING, config, model_config) as parser:\n",
    "            if os.path.exists(image_path):\n",
    "                result = parser.process_image(image_path)\n",
    "            else:\n",
    "                print(f\"   Image file not found: {image_path}\")\n",
    "except Exception as e:\n",
    "        print(f\" {e}\")"
   ]
  },
  {
   "cell_type": "code",
   "execution_count": 12,
   "id": "e8c224b5",
   "metadata": {},
   "outputs": [
    {
     "name": "stdout",
     "output_type": "stream",
     "text": [
      "{\n",
      "  \"text\": \"11943530547Introductory1 4233544245vii text5057442358Again, we say All over the world when we should say  Over all the world, and the reason why instead of the reason that. Usage has made our language what it is; grammatical rules strive to limit it to what it ought to be. In many instances usage has supplanted grammatical rules. Huntdreads of words have been used by masters of Engish in ways that violate these rules. These uses are to be found to-day recorded by the dictionaries because lexicographers recognize it is their duty tc present the language as they find it used by the people. It is to the people, not to the purists, that one must look for the enriching of our mother tongue. To them it is as impossible to confine the English language within the bonds of grammatical rules as it is to stem the tide of the sea. For them all matters that relate to English speech can be decided only by the law of good usage. This, and this alone is their Court of Last Resort. Withal, the observance of certain conventional rules does no harm if it helps him who speaks carelessly to produce a refined style of diction and writing, or if it teaches him who does not know, what to say and how to say it.text text50358442408The secret of strength in speech and writing lies in the art of using the right word in the right place; therefore, careful speakers and writers should aim to command not only a large vocabulary but atext\",\n",
      "  \"elements\": [\n",
      "    {\n",
      "      \"text\": \"11943530547Introductory1\",\n",
      "      \"confidence\": 0.95,\n",
      "      \"bbox\": null,\n",
      "      \"element_type\": \"text\",\n",
      "      \"page_number\": 0\n",
      "    },\n",
      "    {\n",
      "      \"text\": \"4233544245vii\",\n",
      "      \"confidence\": 0.95,\n",
      "      \"bbox\": null,\n",
      "      \"element_type\": \"text\",\n",
      "      \"page_number\": 0\n",
      "    },\n",
      "    {\n",
      "      \"text\": \"text5057442358Again, we say All over the world when we should say  Over all the world, and the reason why instead of the reason that. Usage has made our language what it is; grammatical rules strive to limit it to what it ought to be. In many instances usage has supplanted grammatical rules. Huntdreads of words have been used by masters of Engish in ways that violate these rules. These uses are to be found to-day recorded by the dictionaries because lexicographers recognize it is their duty tc present the language as they find it used by the people. It is to the people, not to the purists, that one must look for the enriching of our mother tongue. To them it is as impossible to confine the English language within the bonds of grammatical rules as it is to stem the tide of the sea. For them all matters that relate to English speech can be decided only by the law of good usage. This, and this alone is their Court of Last Resort. Withal, the observance of certain conventional rules does no harm if it helps him who speaks carelessly to produce a refined style of diction and writing, or if it teaches him who does not know, what to say and how to say it.text\",\n",
      "      \"confidence\": 0.95,\n",
      "      \"bbox\": null,\n",
      "      \"element_type\": \"text\",\n",
      "      \"page_number\": 0\n",
      "    },\n",
      "    {\n",
      "      \"text\": \"text50358442408The secret of strength in speech and writing lies in the art of using the right word in the right place; therefore, careful speakers and writers should aim to command not only a large vocabulary but atext\",\n",
      "      \"confidence\": 0.95,\n",
      "      \"bbox\": null,\n",
      "      \"element_type\": \"text\",\n",
      "      \"page_number\": 0\n",
      "    }\n",
      "  ],\n",
      "  \"metadata\": {\n",
      "    \"model_name\": \"SmolDocling-256M\",\n",
      "    \"image_path\": \"data/test1.jpg\"\n",
      "  },\n",
      "  \"processing_time\": 20.89729332923889,\n",
      "  \"model_name\": \"SmolDocling\",\n",
      "  \"confidence_score\": 0.95\n",
      "}\n"
     ]
    }
   ],
   "source": [
    "import json\n",
    "from dataclasses import asdict\n",
    "\n",
    "## Print the result in a readable format\n",
    "json_str = json.dumps(asdict(result), indent=2)\n",
    "print(json_str)"
   ]
  },
  {
   "cell_type": "code",
   "execution_count": null,
   "id": "f02a3bc4",
   "metadata": {},
   "outputs": [],
   "source": []
  }
 ],
 "metadata": {
  "kernelspec": {
   "display_name": "ocr",
   "language": "python",
   "name": "python3"
  },
  "language_info": {
   "codemirror_mode": {
    "name": "ipython",
    "version": 3
   },
   "file_extension": ".py",
   "mimetype": "text/x-python",
   "name": "python",
   "nbconvert_exporter": "python",
   "pygments_lexer": "ipython3",
   "version": "3.11.0"
  }
 },
 "nbformat": 4,
 "nbformat_minor": 5
}
