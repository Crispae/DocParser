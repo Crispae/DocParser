{
 "cells": [
  {
   "cell_type": "code",
   "execution_count": 1,
   "id": "9cc3bd81",
   "metadata": {},
   "outputs": [],
   "source": [
    "import sys\n",
    "import os\n",
    "\n",
    "# Adjust the path to point to the project root\n",
    "project_root = os.path.abspath(os.path.join(os.getcwd(), \"..\"))\n",
    "if project_root not in sys.path:\n",
    "    sys.path.insert(0, project_root)"
   ]
  },
  {
   "cell_type": "code",
   "execution_count": 2,
   "id": "57b2c866",
   "metadata": {},
   "outputs": [],
   "source": [
    "import DocParser"
   ]
  },
  {
   "cell_type": "code",
   "execution_count": 3,
   "id": "9183b27b",
   "metadata": {},
   "outputs": [],
   "source": [
    "from DocParser import DocParser, OCREngine\n",
    "from DocParser.Config.OCRConfig import OCRConfig\n",
    "from DocParser.Config.ModelConfig import ModelConfig"
   ]
  },
  {
   "cell_type": "code",
   "execution_count": 4,
   "id": "22a5fddd",
   "metadata": {},
   "outputs": [],
   "source": [
    "# Create configurations\n",
    "config = OCRConfig(confidence_threshold=0.7,\n",
    "            preserve_layout=True,\n",
    "            extract_tables=True\n",
    "        )"
   ]
  },
  {
   "cell_type": "code",
   "execution_count": 5,
   "id": "7d62e811",
   "metadata": {},
   "outputs": [],
   "source": [
    "model_config = ModelConfig(\n",
    "        device=\"cpu\",  # Use \"cuda\" if GPU is available\n",
    "        batch_size=1\n",
    "    )"
   ]
  },
  {
   "cell_type": "code",
   "execution_count": 6,
   "id": "b6e606ec",
   "metadata": {},
   "outputs": [
    {
     "name": "stderr",
     "output_type": "stream",
     "text": [
      "c:\\Users\\saura\\Desktop\\BfR\\DocParser\\ocr\\Lib\\site-packages\\tqdm\\auto.py:21: TqdmWarning: IProgress not found. Please update jupyter and ipywidgets. See https://ipywidgets.readthedocs.io/en/stable/user_install.html\n",
      "  from .autonotebook import tqdm as notebook_tqdm\n",
      "Truncation was not explicitly activated but `max_length` is provided a specific value, please use `truncation=True` to explicitly truncate examples to max length. Defaulting to 'longest_first' truncation strategy. If you encode pairs of sequences (GLUE-style) with the tokenizer you can select this strategy more precisely by providing a specific strategy to `truncation`.\n"
     ]
    }
   ],
   "source": [
    "from DocParser import process_image, process_pdf, OCREngine\n",
    "\n",
    "# Quick image processing\n",
    "result = process_image(\"test1.jpg\", OCREngine.SMALL_DOCLING)"
   ]
  },
  {
   "cell_type": "code",
   "execution_count": 9,
   "id": "54088c33",
   "metadata": {},
   "outputs": [
    {
     "name": "stdout",
     "output_type": "stream",
     "text": [
      "{\n",
      "  \"text\": \"11943530547Introductory1 4233544245vii text5057442358Again, we say All over the world when we should say  Over all the world, and the reason why instead of the reason that. Usage has made our language what it is; grammatical rules strive to limit it to what it ought to be. In many instances usage has supplanted grammatical rules. Huntdreads of words have been used by masters of Engish in ways that violate these rules. These uses are to be found to-day recorded by the dictionaries because lexicographers recognize it is their duty tc present the language as they find it used by the people. It is to the people, not to the purists, that one must look for the enriching of our mother tongue. To them it is as impossible to confine the English language within the bonds of grammatical rules as it is to stem the tide of the sea. For them all matters that relate to English speech can be de- cided only by the law of good usage. This, and this alone is their Court of Last Resort. Withal, the observance of certain conventional rules does no harm if it helps him who speaks carelessly to pro- duce a refined style of diction and writing, or if it teaches him who does not know, what to say and how to say it.text text50358442409The secret of strength in speech and writing lies in the art of using the right word in the right place; therefore, careful speakers and writers should aim to command not only a large vocabulary but atext\",\n",
      "  \"elements\": [\n",
      "    {\n",
      "      \"text\": \"11943530547Introductory1\",\n",
      "      \"confidence\": 0.95,\n",
      "      \"bbox\": null,\n",
      "      \"element_type\": \"text\",\n",
      "      \"page_number\": 0\n",
      "    },\n",
      "    {\n",
      "      \"text\": \"4233544245vii\",\n",
      "      \"confidence\": 0.95,\n",
      "      \"bbox\": null,\n",
      "      \"element_type\": \"text\",\n",
      "      \"page_number\": 0\n",
      "    },\n",
      "    {\n",
      "      \"text\": \"text5057442358Again, we say All over the world when we should say  Over all the world, and the reason why instead of the reason that. Usage has made our language what it is; grammatical rules strive to limit it to what it ought to be. In many instances usage has supplanted grammatical rules. Huntdreads of words have been used by masters of Engish in ways that violate these rules. These uses are to be found to-day recorded by the dictionaries because lexicographers recognize it is their duty tc present the language as they find it used by the people. It is to the people, not to the purists, that one must look for the enriching of our mother tongue. To them it is as impossible to confine the English language within the bonds of grammatical rules as it is to stem the tide of the sea. For them all matters that relate to English speech can be de- cided only by the law of good usage. This, and this alone is their Court of Last Resort. Withal, the observance of certain conventional rules does no harm if it helps him who speaks carelessly to pro- duce a refined style of diction and writing, or if it teaches him who does not know, what to say and how to say it.text\",\n",
      "      \"confidence\": 0.95,\n",
      "      \"bbox\": null,\n",
      "      \"element_type\": \"text\",\n",
      "      \"page_number\": 0\n",
      "    },\n",
      "    {\n",
      "      \"text\": \"text50358442409The secret of strength in speech and writing lies in the art of using the right word in the right place; therefore, careful speakers and writers should aim to command not only a large vocabulary but atext\",\n",
      "      \"confidence\": 0.95,\n",
      "      \"bbox\": null,\n",
      "      \"element_type\": \"text\",\n",
      "      \"page_number\": 0\n",
      "    }\n",
      "  ],\n",
      "  \"metadata\": {\n",
      "    \"model_name\": \"SmolDocling-256M\",\n",
      "    \"image_path\": \"test1.jpg\"\n",
      "  },\n",
      "  \"processing_time\": 52.012715578079224,\n",
      "  \"model_name\": \"SmolDocling\",\n",
      "  \"confidence_score\": 0.95\n",
      "}\n"
     ]
    }
   ],
   "source": [
    "import json\n",
    "from dataclasses import asdict\n",
    "\n",
    "json_str = json.dumps(asdict(result), indent=2)\n",
    "print(json_str)\n"
   ]
  },
  {
   "cell_type": "code",
   "execution_count": null,
   "id": "5982593e",
   "metadata": {},
   "outputs": [],
   "source": [
    "\n",
    "\n"
   ]
  },
  {
   "cell_type": "code",
   "execution_count": null,
   "id": "77c0f99f",
   "metadata": {},
   "outputs": [],
   "source": [
    "\n",
    "\n"
   ]
  },
  {
   "cell_type": "code",
   "execution_count": null,
   "id": "69738804",
   "metadata": {},
   "outputs": [],
   "source": [
    "\n",
    "\n"
   ]
  },
  {
   "cell_type": "code",
   "execution_count": null,
   "id": "348e0425",
   "metadata": {},
   "outputs": [],
   "source": [
    "\n",
    "\n"
   ]
  },
  {
   "cell_type": "code",
   "execution_count": null,
   "id": "fe8829ec",
   "metadata": {},
   "outputs": [],
   "source": [
    "\n",
    "\n"
   ]
  },
  {
   "cell_type": "code",
   "execution_count": null,
   "id": "9ec41e2a",
   "metadata": {},
   "outputs": [],
   "source": [
    "\n",
    "\n"
   ]
  },
  {
   "cell_type": "code",
   "execution_count": null,
   "id": "ea58d51b",
   "metadata": {},
   "outputs": [],
   "source": [
    "\n",
    "\n"
   ]
  },
  {
   "cell_type": "code",
   "execution_count": null,
   "id": "7186abb5",
   "metadata": {},
   "outputs": [],
   "source": [
    "\n",
    "\n"
   ]
  },
  {
   "cell_type": "code",
   "execution_count": null,
   "id": "04cc24a8",
   "metadata": {},
   "outputs": [],
   "source": [
    "\n",
    "\n"
   ]
  },
  {
   "cell_type": "code",
   "execution_count": null,
   "id": "fbb28ae2",
   "metadata": {},
   "outputs": [],
   "source": [
    "\n",
    "\n"
   ]
  },
  {
   "cell_type": "code",
   "execution_count": null,
   "id": "93e27396",
   "metadata": {},
   "outputs": [],
   "source": [
    "\n",
    "\n"
   ]
  },
  {
   "cell_type": "code",
   "execution_count": null,
   "id": "1a4336f5",
   "metadata": {},
   "outputs": [],
   "source": [
    "\n",
    "\n"
   ]
  },
  {
   "cell_type": "code",
   "execution_count": null,
   "id": "eb30104c",
   "metadata": {},
   "outputs": [],
   "source": [
    "\n",
    "\n"
   ]
  },
  {
   "cell_type": "code",
   "execution_count": null,
   "id": "73724591",
   "metadata": {},
   "outputs": [],
   "source": [
    "\n",
    "\n"
   ]
  },
  {
   "cell_type": "code",
   "execution_count": null,
   "id": "17b86cab",
   "metadata": {},
   "outputs": [],
   "source": [
    "\n",
    "\n"
   ]
  },
  {
   "cell_type": "code",
   "execution_count": null,
   "id": "0416abde",
   "metadata": {},
   "outputs": [],
   "source": [
    "\n",
    "\n"
   ]
  },
  {
   "cell_type": "code",
   "execution_count": null,
   "id": "5a19f07a",
   "metadata": {},
   "outputs": [],
   "source": [
    "\n",
    "\n"
   ]
  },
  {
   "cell_type": "code",
   "execution_count": null,
   "id": "1c818d3f",
   "metadata": {},
   "outputs": [],
   "source": [
    "\n",
    "\n"
   ]
  },
  {
   "cell_type": "code",
   "execution_count": null,
   "id": "9839c993",
   "metadata": {},
   "outputs": [],
   "source": [
    "\n",
    "\n"
   ]
  },
  {
   "cell_type": "code",
   "execution_count": null,
   "id": "63d17f35",
   "metadata": {},
   "outputs": [],
   "source": [
    "\n",
    "\n"
   ]
  },
  {
   "cell_type": "code",
   "execution_count": null,
   "id": "c3004866",
   "metadata": {},
   "outputs": [],
   "source": [
    "\n",
    "\n"
   ]
  },
  {
   "cell_type": "code",
   "execution_count": null,
   "id": "0ad63b65",
   "metadata": {},
   "outputs": [],
   "source": [
    "\n",
    "\n"
   ]
  },
  {
   "cell_type": "code",
   "execution_count": null,
   "id": "3e2b68d4",
   "metadata": {},
   "outputs": [],
   "source": [
    "\n",
    "\n"
   ]
  },
  {
   "cell_type": "code",
   "execution_count": null,
   "id": "4b80ffc1",
   "metadata": {},
   "outputs": [],
   "source": [
    "\n",
    "\n"
   ]
  },
  {
   "cell_type": "code",
   "execution_count": null,
   "id": "f6f2c5d5",
   "metadata": {},
   "outputs": [],
   "source": [
    "\n",
    "\n"
   ]
  },
  {
   "cell_type": "code",
   "execution_count": null,
   "id": "c76957e9",
   "metadata": {},
   "outputs": [],
   "source": [
    "\n",
    "\n"
   ]
  },
  {
   "cell_type": "code",
   "execution_count": null,
   "id": "ebec8382",
   "metadata": {},
   "outputs": [],
   "source": [
    "\n",
    "\n"
   ]
  },
  {
   "cell_type": "code",
   "execution_count": 6,
   "id": "51006650",
   "metadata": {},
   "outputs": [
    {
     "name": "stderr",
     "output_type": "stream",
     "text": [
      "c:\\Users\\saura\\Desktop\\BfR\\DocParser\\ocr\\Lib\\site-packages\\tqdm\\auto.py:21: TqdmWarning: IProgress not found. Please update jupyter and ipywidgets. See https://ipywidgets.readthedocs.io/en/stable/user_install.html\n",
      "  from .autonotebook import tqdm as notebook_tqdm\n",
      "c:\\Users\\saura\\Desktop\\BfR\\DocParser\\ocr\\Lib\\site-packages\\huggingface_hub\\file_download.py:143: UserWarning: `huggingface_hub` cache-system uses symlinks by default to efficiently store duplicated files but your machine does not support them in C:\\Users\\saura\\.cache\\huggingface\\hub\\models--ds4sd--SmolDocling-256M-preview. Caching files will still work but in a degraded version that might require more space on your disk. This warning can be disabled by setting the `HF_HUB_DISABLE_SYMLINKS_WARNING` environment variable. For more details, see https://huggingface.co/docs/huggingface_hub/how-to-cache#limitations.\n",
      "To support symlinks on Windows, you either need to activate Developer Mode or to run Python as an administrator. In order to activate developer mode, see this article: https://docs.microsoft.com/en-us/windows/apps/get-started/enable-your-device-for-development\n",
      "  warnings.warn(message)\n"
     ]
    }
   ],
   "source": [
    "parser = DocParser(OCREngine.SMALL_DOCLING, config, model_config)\n"
   ]
  },
  {
   "cell_type": "code",
   "execution_count": null,
   "id": "b5e6bfa6",
   "metadata": {},
   "outputs": [],
   "source": [
    "\n",
    "\n"
   ]
  },
  {
   "cell_type": "code",
   "execution_count": null,
   "id": "e8221123",
   "metadata": {},
   "outputs": [],
   "source": [
    "\n",
    "\n"
   ]
  },
  {
   "cell_type": "code",
   "execution_count": null,
   "id": "80beea23",
   "metadata": {},
   "outputs": [],
   "source": [
    "\n",
    "\n"
   ]
  },
  {
   "cell_type": "code",
   "execution_count": null,
   "id": "e606178b",
   "metadata": {},
   "outputs": [],
   "source": [
    "\n",
    "\n"
   ]
  },
  {
   "cell_type": "code",
   "execution_count": null,
   "id": "cc9e05a7",
   "metadata": {},
   "outputs": [],
   "source": [
    "\n",
    "\n"
   ]
  },
  {
   "cell_type": "code",
   "execution_count": null,
   "id": "4849c009",
   "metadata": {},
   "outputs": [],
   "source": [
    "\n",
    "\n"
   ]
  },
  {
   "cell_type": "code",
   "execution_count": null,
   "id": "aef3b566",
   "metadata": {},
   "outputs": [],
   "source": [
    "\n",
    "\n"
   ]
  },
  {
   "cell_type": "code",
   "execution_count": null,
   "id": "8038eb65",
   "metadata": {},
   "outputs": [],
   "source": [
    "\n",
    "\n"
   ]
  },
  {
   "cell_type": "code",
   "execution_count": null,
   "id": "4d9b5209",
   "metadata": {},
   "outputs": [],
   "source": [
    "\n",
    "\n"
   ]
  },
  {
   "cell_type": "code",
   "execution_count": null,
   "id": "4b41f90b",
   "metadata": {},
   "outputs": [],
   "source": [
    "\n",
    "\n"
   ]
  },
  {
   "cell_type": "code",
   "execution_count": null,
   "id": "3d76aadc",
   "metadata": {},
   "outputs": [],
   "source": [
    "\n",
    "\n"
   ]
  }
 ],
 "metadata": {
  "kernelspec": {
   "display_name": "ocr",
   "language": "python",
   "name": "python3"
  },
  "language_info": {
   "codemirror_mode": {
    "name": "ipython",
    "version": 3
   },
   "file_extension": ".py",
   "mimetype": "text/x-python",
   "name": "python",
   "nbconvert_exporter": "python",
   "pygments_lexer": "ipython3",
   "version": "3.13.5"
  }
 },
 "nbformat": 4,
 "nbformat_minor": 5
}
