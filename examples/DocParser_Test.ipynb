{
 "cells": [
  {
   "cell_type": "code",
   "execution_count": 1,
   "id": "9cc3bd81",
   "metadata": {},
   "outputs": [],
   "source": [
    "import sys\n",
    "import os\n",
    "\n",
    "# Adjust the path to point to the project root\n",
    "project_root = os.path.abspath(os.path.join(os.getcwd(), \"..\"))\n",
    "if project_root not in sys.path:\n",
    "    sys.path.insert(0, project_root)"
   ]
  },
  {
   "cell_type": "code",
   "execution_count": 2,
   "id": "57b2c866",
   "metadata": {},
   "outputs": [
    {
     "name": "stderr",
     "output_type": "stream",
     "text": [
      "c:\\Users\\saurav\\OneDrive - URV\\Escritorio\\BfR\\DocParser\\ocr\\Lib\\site-packages\\tqdm\\auto.py:21: TqdmWarning: IProgress not found. Please update jupyter and ipywidgets. See https://ipywidgets.readthedocs.io/en/stable/user_install.html\n",
      "  from .autonotebook import tqdm as notebook_tqdm\n"
     ]
    }
   ],
   "source": [
    "import DocParser"
   ]
  },
  {
   "cell_type": "code",
   "execution_count": 3,
   "id": "9183b27b",
   "metadata": {},
   "outputs": [],
   "source": [
    "from DocParser import DocParser, OCREngine\n",
    "from DocParser.Config.OCRConfig import OCRConfig\n",
    "from DocParser.Config.ModelConfig import ModelConfig"
   ]
  },
  {
   "cell_type": "code",
   "execution_count": 4,
   "id": "22a5fddd",
   "metadata": {},
   "outputs": [],
   "source": [
    "# Create configurations\n",
    "config = OCRConfig(confidence_threshold=0.7,\n",
    "            preserve_layout=True,\n",
    "            extract_tables=True\n",
    "        )"
   ]
  },
  {
   "cell_type": "code",
   "execution_count": 5,
   "id": "7d62e811",
   "metadata": {},
   "outputs": [],
   "source": [
    "model_config = ModelConfig(\n",
    "        device=\"cuda\",  # Use \"cuda\" if GPU is available\n",
    "        batch_size=3,\n",
    "        gpu_id=0\n",
    "    )"
   ]
  },
  {
   "cell_type": "code",
   "execution_count": 11,
   "id": "a3fcc550",
   "metadata": {},
   "outputs": [],
   "source": [
    "image_path = \"data/test1.jpg\"\n",
    "pdf_path = \"data/pdf1.pdf\""
   ]
  },
  {
   "cell_type": "code",
   "execution_count": null,
   "id": "b6e606ec",
   "metadata": {},
   "outputs": [
    {
     "name": "stdout",
     "output_type": "stream",
     "text": [
      "DEBUG: model_config.device = cuda\n"
     ]
    },
    {
     "name": "stdout",
     "output_type": "stream",
     "text": [
      "Model device: cuda:0\n"
     ]
    },
    {
     "name": "stderr",
     "output_type": "stream",
     "text": [
      "Truncation was not explicitly activated but `max_length` is provided a specific value, please use `truncation=True` to explicitly truncate examples to max length. Defaulting to 'longest_first' truncation strategy. If you encode pairs of sequences (GLUE-style) with the tokenizer you can select this strategy more precisely by providing a specific strategy to `truncation`.\n"
     ]
    },
    {
     "name": "stdout",
     "output_type": "stream",
     "text": [
      "   Error with Nanonets: 'list' object has no attribute 'processing_time'\n"
     ]
    }
   ],
   "source": [
    "try:\n",
    "    with DocParser(OCREngine.SMALL_DOCLING, config, model_config) as parser:\n",
    "            if os.path.exists(image_path):\n",
    "                result = parser.process_pdf(pdf_path)\n",
    "            else:\n",
    "                print(f\"   Image file not found: {image_path}\")\n",
    "except Exception as e:\n",
    "        print(f\" {e}\")"
   ]
  },
  {
   "cell_type": "code",
   "execution_count": 19,
   "id": "54088c33",
   "metadata": {},
   "outputs": [
    {
     "name": "stdout",
     "output_type": "stream",
     "text": [
      "{\n",
      "  \"text\": \"4744243106 text47122243142specific word is the head of a nmod_such_as determine word.text text47135243147Other fields are helpful to index but not required, such as lemma, chunk, entity, and part-of-speech tags.text text47159243216(b) The serialized syntax graph is also stored in the index as a DocValue , for which a document-to-value mapping is built at index-time, allowing us to retrieve the dependency graph corresponding to a given sentence efficiently. The syntax graph is only retrieved and expanded when the sentence could potentially match the users query, based on the token-level annotations, i.e., as determined with the incoming and outgoing fields described above.text text47218243267Furthermore, to optimize the deserialization of the dependency graphs, we use a custom serialization specific to our data structure, which was benchmarked as being approximately 20 times faster at serialization than the built-in Java serializer on the same data structure, but more critically for runtime efficiency it deserializes more than 100 times faster.text text47282243347(c) The document metadata is indexed in a nested manner, such that the metadata serves as a parent document, and its corresponding sentence-level documents are its children. This is illustrated in Figure 4. By using Lucenes index-time join capabilities, these filters are applied efficiently at query time. Odinson does not restrict metadata types, rather they are user-defined. If a filter is used, then Odinson returns only the matches that also satisfy the metadata filter.text text25751455102The declarative Odinon query syntax is based on that of Odin (Valenzuela-Esc\\u00e1rcega et al., 2016), which includes token constraints, syntax queries, named captures, both greedy and lazy quantifiers, optional and required event arguments, and look-around assertions. Token constraints are boolean expressions over various attributes of a token (e.g., [word_{pred}_{:}_{prezetel}  tag_{noun}]). Syntax queries describe traversals over the syntax graph. For example, the query John nsubj eats dobj [1] would find John , traverse an incoming subj edge to eats , then traverse an outgoing doj] edge to any other token. By surrounding part of a query with ?argument_name... , the tokens can be captured as named arguments. For example, modifying the previous query to ( ?agent ) John nsubj eats dobj [1] would capture John as the agent.text text257104455165(a) The query is a word_{pred}_{:}_{prezetel}  tag_{noun}). Syn-tax queries describe traversals over the syntax graph. For example, the query John nsubj eats dobj [1] would find John , traverse an incoming subj edge to eats , then traverse an outgoing doj] edge to any other token. By surrounding part of a query with ?argument_name... , the tokens can be captured as named arguments. For example, modifying the previous query to ( ?agent ) John nsubj eats dobj [1] would capture John as the agent.text text257167455206In an important departure from the Odin language, Odin also supports multiple representations in the same pattern. Consider this contextualized causal pattern: ( ?cause [1]) leads to ( ?effect [1] nmod_during ( ?context [1]). Here, in the same pattern the user can specify sequences of lexical elements (i.e., leads to) along with syntactic graph traversals (i.e., nmod_during).text 12572273362325.1. Event Queries1 text257235455265Odinson also supports event queries, which make it easier to specify complex patterns involving many entities interacting through a trigger. In particular, each event query is a structured query that contain several sub-queries: one for the event trigger, and one for each of the required arguments. Additionally, the structure of the query provides opportunities for further optimization.text text257267455323Additionally, the structure of the query provides opportunities for further optimization. If all these queries match, only then is the graph deserialized and checked to make sure that the required arguments are connected to the trigger in the specified way. Event queries can also include arguments that are not required to match, but which are included in the result if they do (i.e., optional arguments). For example, consider this event query shown in Rule 1:text text257333455352and Too] must have been found in advance. However, for several use cases it is desirable to match patterns in a topdown manner, i.e., first identifying events of interest andtext text257359455376The first, i.e. Food dobj), then by default Odinons matches the single token at the end of the path.text text257379455391(d) Two instrument arguments are matched.text text257400455441Figure 5: Example sentence illustrating the results of applying the Rules 1  2 given in Section 5.1. (a) The Odinson index contains many token and relation annotations as a basis for capture patterns. (b) The event trigger is a token pattern, that if matched, becomes the anchor for the argument patterns. The trigger rule matches here because the lemma of ate is eat. (c) The system matches the required argument theme, which asserts that there must be a direct object dependency link between the trigger and a noun phrase (here, as found by a chunker and encoded in the BIO notation). Both the trigger and the required arguments must match in order to extract the event as a whole.text text257443455471(e) The first, i.e., incoming or outgoing) is chosen based on the direction of the dependency. This results in [wordpretzels  incomingnsubj].text 2414802604862187 128841419475. Odinson Query Language1 text25752455102The declarative Odinon query syntax is based on that of Odin (Valenzuela-Esc\\u00e1rcega et al., 2016), which includes token constraints, syntax queries, named captures, both greedy and lazy quantifiers, optional and required event arguments, and look-around assertions. Token constraints are boolean expressions over various attributes of a token (e.g., [word_{pred}_{:}_{prezetel}  tag_{noun}). Syn-tax queries describe traversals over the syntax graph. For example, the query John nsubj eats dobj [1] would find John , traverse an incoming subj edge to any other token. By surrounding part of a query with ?argument_name... , the tokens can be captured as named arguments. For example, modifying the previous query to ( ?agent ) John nsubj eats dobj [1] would capture John as the agent.text 2571044452072572133552181 trigger  [lemmaeat] text257219344224theme: Food dobjtext text2572254262301 instrument : Tool  nmod_with conj?text text257235455254Rule 1: Odinson event pattern that extracts a relation with two types of arguments: 1) a theme and 2) one or more instruments (indicated by the  quantifier following Tool).text text257255455267Unlike Rule 2, this formulation relies on Food and Tool mentions having already been found.text text257278455319This pattern extracts an eating event, which has two types of arguments, a theme and one or more instruments (indicated by the  ). When applied to the sentence Audrey ate ramen with chopsticks and a spoon, Odinson will extract an event with one theme and two instruments, as shown in Figure 5.text text257322455352In the rule above, all of the referenced mentions (i.e., Food and Too] must have been found in advance. However, for several use cases it is desirable to match patterns in a topdown manner, i.e., first identifying events of interest andtext 257353445380257387455410While Odinson already provides a declarative language readily available for end users, the query compiler was designed to decouple the rule language from the specific low level operations that need to be performed on the index through the use of an intermediate representation. This allows different languages to target Odinsons intermediate representations and take advantage of the compiler to generate highly efficient queries that can be used in the Odin-on framework. Further, our compiler performs several optimizations on the query to greatly improve its efficiency. 7text 1604622274696. Query Compilation and Execution1 text47474243485Once a user has provided a query in our declarative language, Odinson complies and executes it. For runtime optimization, Odinson aims to index as much as possible, buttext text47490243510not everything can be indexed. For this reason, we use a multi-step, tiered execution of queries. Queries which do not involve syntax are compiled into an index query and matched against the inverted index only (recall Figure 3).text text47512243548Queries which do involve syntax are compiled into both an index query as well as a graph traversal pattern. However, the latter is only executed if the former matches. To help explain these representations, as well as the tiered query execution, consider the query and three sentences shown in Figure 6 alongside the detailed explanations below:text text257421455457Index query: For the user query shown in Figure 6, pretzels nsubj xcomp thirsty , the compiler builds an index query by collapsing the beginning of the graph traversal (i.e., nsubj) to the adjacent word (pretzels ), where the token field (i.e., incoming or outgoing) is chosen based on the direction of the dependency. This results in [wordpretzels  incomingnsubj].text 2414802604862187 text4134144547AUDrey ate ramen with chopsticks andtext text4135144557AUD-NP O-NP B-NP B-NPtext text4135944565NUSUBD (DOD)text text4136744573NMOD-WITHtext text4137544581(a) A sentence preannotated with chunks and dependencies.text 41383445107 text413109445115NUSUBD (DOD)text 413116445131 text413133445139(a) A trigger is found.text 413140445155 text413163445169(b)text text413171445177(c)text text413179445185(d)text text413187445193(e)text text413202445208(a) A sentence preannotated with chunks and dependencies.text 413210445225 text413227445233(b)text text413235445241(c)text text413243445249(d)text text413250445256(e)text text413258445264(h)text text413266445272(h)text text413274445280(h)text text413282445288(h)text text413290445296(h)text text413298445304(h)text text413306445312(h)text text413314445320(e)text text413322445328(h)text text413330445336(h)text text413338445344(h)text text413346445352(h)text text413354445360(h)text text413362445368(h)text text413370445376(h)text text413378445384(h)text text413386445392(h)text text413394445400(h)text text4134\",\n",
      "  \"elements\": [\n",
      "    {\n",
      "      \"text\": \"4744243106\",\n",
      "      \"confidence\": 0.95,\n",
      "      \"bbox\": null,\n",
      "      \"element_type\": \"text\",\n",
      "      \"page_number\": 0\n",
      "    },\n",
      "    {\n",
      "      \"text\": \"text47122243142specific word is the head of a nmod_such_as determine word.text\",\n",
      "      \"confidence\": 0.95,\n",
      "      \"bbox\": null,\n",
      "      \"element_type\": \"text\",\n",
      "      \"page_number\": 0\n",
      "    },\n",
      "    {\n",
      "      \"text\": \"text47135243147Other fields are helpful to index but not required, such as lemma, chunk, entity, and part-of-speech tags.text\",\n",
      "      \"confidence\": 0.95,\n",
      "      \"bbox\": null,\n",
      "      \"element_type\": \"text\",\n",
      "      \"page_number\": 0\n",
      "    },\n",
      "    {\n",
      "      \"text\": \"text47159243216(b) The serialized syntax graph is also stored in the index as a DocValue , for which a document-to-value mapping is built at index-time, allowing us to retrieve the dependency graph corresponding to a given sentence efficiently. The syntax graph is only retrieved and expanded when the sentence could potentially match the users query, based on the token-level annotations, i.e., as determined with the incoming and outgoing fields described above.text\",\n",
      "      \"confidence\": 0.95,\n",
      "      \"bbox\": null,\n",
      "      \"element_type\": \"text\",\n",
      "      \"page_number\": 0\n",
      "    },\n",
      "    {\n",
      "      \"text\": \"text47218243267Furthermore, to optimize the deserialization of the dependency graphs, we use a custom serialization specific to our data structure, which was benchmarked as being approximately 20 times faster at serialization than the built-in Java serializer on the same data structure, but more critically for runtime efficiency it deserializes more than 100 times faster.text\",\n",
      "      \"confidence\": 0.95,\n",
      "      \"bbox\": null,\n",
      "      \"element_type\": \"text\",\n",
      "      \"page_number\": 0\n",
      "    },\n",
      "    {\n",
      "      \"text\": \"text47282243347(c) The document metadata is indexed in a nested manner, such that the metadata serves as a parent document, and its corresponding sentence-level documents are its children. This is illustrated in Figure 4. By using Lucenes index-time join capabilities, these filters are applied efficiently at query time. Odinson does not restrict metadata types, rather they are user-defined. If a filter is used, then Odinson returns only the matches that also satisfy the metadata filter.text\",\n",
      "      \"confidence\": 0.95,\n",
      "      \"bbox\": null,\n",
      "      \"element_type\": \"text\",\n",
      "      \"page_number\": 0\n",
      "    },\n",
      "    {\n",
      "      \"text\": \"text25751455102The declarative Odinon query syntax is based on that of Odin (Valenzuela-Esc\\u00e1rcega et al., 2016), which includes token constraints, syntax queries, named captures, both greedy and lazy quantifiers, optional and required event arguments, and look-around assertions. Token constraints are boolean expressions over various attributes of a token (e.g., [word_{pred}_{:}_{prezetel}  tag_{noun}]). Syntax queries describe traversals over the syntax graph. For example, the query John nsubj eats dobj [1] would find John , traverse an incoming subj edge to eats , then traverse an outgoing doj] edge to any other token. By surrounding part of a query with ?argument_name... , the tokens can be captured as named arguments. For example, modifying the previous query to ( ?agent ) John nsubj eats dobj [1] would capture John as the agent.text\",\n",
      "      \"confidence\": 0.95,\n",
      "      \"bbox\": null,\n",
      "      \"element_type\": \"text\",\n",
      "      \"page_number\": 0\n",
      "    },\n",
      "    {\n",
      "      \"text\": \"text257104455165(a) The query is a word_{pred}_{:}_{prezetel}  tag_{noun}). Syn-tax queries describe traversals over the syntax graph. For example, the query John nsubj eats dobj [1] would find John , traverse an incoming subj edge to eats , then traverse an outgoing doj] edge to any other token. By surrounding part of a query with ?argument_name... , the tokens can be captured as named arguments. For example, modifying the previous query to ( ?agent ) John nsubj eats dobj [1] would capture John as the agent.text\",\n",
      "      \"confidence\": 0.95,\n",
      "      \"bbox\": null,\n",
      "      \"element_type\": \"text\",\n",
      "      \"page_number\": 0\n",
      "    },\n",
      "    {\n",
      "      \"text\": \"text257167455206In an important departure from the Odin language, Odin also supports multiple representations in the same pattern. Consider this contextualized causal pattern: ( ?cause [1]) leads to ( ?effect [1] nmod_during ( ?context [1]). Here, in the same pattern the user can specify sequences of lexical elements (i.e., leads to) along with syntactic graph traversals (i.e., nmod_during).text\",\n",
      "      \"confidence\": 0.95,\n",
      "      \"bbox\": null,\n",
      "      \"element_type\": \"text\",\n",
      "      \"page_number\": 0\n",
      "    },\n",
      "    {\n",
      "      \"text\": \"12572273362325.1. Event Queries1\",\n",
      "      \"confidence\": 0.95,\n",
      "      \"bbox\": null,\n",
      "      \"element_type\": \"text\",\n",
      "      \"page_number\": 0\n",
      "    },\n",
      "    {\n",
      "      \"text\": \"text257235455265Odinson also supports event queries, which make it easier to specify complex patterns involving many entities interacting through a trigger. In particular, each event query is a structured query that contain several sub-queries: one for the event trigger, and one for each of the required arguments. Additionally, the structure of the query provides opportunities for further optimization.text\",\n",
      "      \"confidence\": 0.95,\n",
      "      \"bbox\": null,\n",
      "      \"element_type\": \"text\",\n",
      "      \"page_number\": 0\n",
      "    },\n",
      "    {\n",
      "      \"text\": \"text257267455323Additionally, the structure of the query provides opportunities for further optimization. If all these queries match, only then is the graph deserialized and checked to make sure that the required arguments are connected to the trigger in the specified way. Event queries can also include arguments that are not required to match, but which are included in the result if they do (i.e., optional arguments). For example, consider this event query shown in Rule 1:text\",\n",
      "      \"confidence\": 0.95,\n",
      "      \"bbox\": null,\n",
      "      \"element_type\": \"text\",\n",
      "      \"page_number\": 0\n",
      "    },\n",
      "    {\n",
      "      \"text\": \"text257333455352and Too] must have been found in advance. However, for several use cases it is desirable to match patterns in a topdown manner, i.e., first identifying events of interest andtext\",\n",
      "      \"confidence\": 0.95,\n",
      "      \"bbox\": null,\n",
      "      \"element_type\": \"text\",\n",
      "      \"page_number\": 0\n",
      "    },\n",
      "    {\n",
      "      \"text\": \"text257359455376The first, i.e. Food dobj), then by default Odinons matches the single token at the end of the path.text\",\n",
      "      \"confidence\": 0.95,\n",
      "      \"bbox\": null,\n",
      "      \"element_type\": \"text\",\n",
      "      \"page_number\": 0\n",
      "    },\n",
      "    {\n",
      "      \"text\": \"text257379455391(d) Two instrument arguments are matched.text\",\n",
      "      \"confidence\": 0.95,\n",
      "      \"bbox\": null,\n",
      "      \"element_type\": \"text\",\n",
      "      \"page_number\": 0\n",
      "    },\n",
      "    {\n",
      "      \"text\": \"text257400455441Figure 5: Example sentence illustrating the results of applying the Rules 1  2 given in Section 5.1. (a) The Odinson index contains many token and relation annotations as a basis for capture patterns. (b) The event trigger is a token pattern, that if matched, becomes the anchor for the argument patterns. The trigger rule matches here because the lemma of ate is eat. (c) The system matches the required argument theme, which asserts that there must be a direct object dependency link between the trigger and a noun phrase (here, as found by a chunker and encoded in the BIO notation). Both the trigger and the required arguments must match in order to extract the event as a whole.text\",\n",
      "      \"confidence\": 0.95,\n",
      "      \"bbox\": null,\n",
      "      \"element_type\": \"text\",\n",
      "      \"page_number\": 0\n",
      "    },\n",
      "    {\n",
      "      \"text\": \"text257443455471(e) The first, i.e., incoming or outgoing) is chosen based on the direction of the dependency. This results in [wordpretzels  incomingnsubj].text\",\n",
      "      \"confidence\": 0.95,\n",
      "      \"bbox\": null,\n",
      "      \"element_type\": \"text\",\n",
      "      \"page_number\": 0\n",
      "    },\n",
      "    {\n",
      "      \"text\": \"2414802604862187\",\n",
      "      \"confidence\": 0.95,\n",
      "      \"bbox\": null,\n",
      "      \"element_type\": \"text\",\n",
      "      \"page_number\": 0\n",
      "    },\n",
      "    {\n",
      "      \"text\": \"128841419475. Odinson Query Language1\",\n",
      "      \"confidence\": 0.95,\n",
      "      \"bbox\": null,\n",
      "      \"element_type\": \"text\",\n",
      "      \"page_number\": 0\n",
      "    },\n",
      "    {\n",
      "      \"text\": \"text25752455102The declarative Odinon query syntax is based on that of Odin (Valenzuela-Esc\\u00e1rcega et al., 2016), which includes token constraints, syntax queries, named captures, both greedy and lazy quantifiers, optional and required event arguments, and look-around assertions. Token constraints are boolean expressions over various attributes of a token (e.g., [word_{pred}_{:}_{prezetel}  tag_{noun}). Syn-tax queries describe traversals over the syntax graph. For example, the query John nsubj eats dobj [1] would find John , traverse an incoming subj edge to any other token. By surrounding part of a query with ?argument_name... , the tokens can be captured as named arguments. For example, modifying the previous query to ( ?agent ) John nsubj eats dobj [1] would capture John as the agent.text\",\n",
      "      \"confidence\": 0.95,\n",
      "      \"bbox\": null,\n",
      "      \"element_type\": \"text\",\n",
      "      \"page_number\": 0\n",
      "    },\n",
      "    {\n",
      "      \"text\": \"2571044452072572133552181 trigger  [lemmaeat]\",\n",
      "      \"confidence\": 0.95,\n",
      "      \"bbox\": null,\n",
      "      \"element_type\": \"text\",\n",
      "      \"page_number\": 0\n",
      "    },\n",
      "    {\n",
      "      \"text\": \"text257219344224theme: Food dobjtext\",\n",
      "      \"confidence\": 0.95,\n",
      "      \"bbox\": null,\n",
      "      \"element_type\": \"text\",\n",
      "      \"page_number\": 0\n",
      "    },\n",
      "    {\n",
      "      \"text\": \"text2572254262301 instrument : Tool  nmod_with conj?text\",\n",
      "      \"confidence\": 0.95,\n",
      "      \"bbox\": null,\n",
      "      \"element_type\": \"text\",\n",
      "      \"page_number\": 0\n",
      "    },\n",
      "    {\n",
      "      \"text\": \"text257235455254Rule 1: Odinson event pattern that extracts a relation with two types of arguments: 1) a theme and 2) one or more instruments (indicated by the  quantifier following Tool).text\",\n",
      "      \"confidence\": 0.95,\n",
      "      \"bbox\": null,\n",
      "      \"element_type\": \"text\",\n",
      "      \"page_number\": 0\n",
      "    },\n",
      "    {\n",
      "      \"text\": \"text257255455267Unlike Rule 2, this formulation relies on Food and Tool mentions having already been found.text\",\n",
      "      \"confidence\": 0.95,\n",
      "      \"bbox\": null,\n",
      "      \"element_type\": \"text\",\n",
      "      \"page_number\": 0\n",
      "    },\n",
      "    {\n",
      "      \"text\": \"text257278455319This pattern extracts an eating event, which has two types of arguments, a theme and one or more instruments (indicated by the  ). When applied to the sentence Audrey ate ramen with chopsticks and a spoon, Odinson will extract an event with one theme and two instruments, as shown in Figure 5.text\",\n",
      "      \"confidence\": 0.95,\n",
      "      \"bbox\": null,\n",
      "      \"element_type\": \"text\",\n",
      "      \"page_number\": 0\n",
      "    },\n",
      "    {\n",
      "      \"text\": \"text257322455352In the rule above, all of the referenced mentions (i.e., Food and Too] must have been found in advance. However, for several use cases it is desirable to match patterns in a topdown manner, i.e., first identifying events of interest andtext\",\n",
      "      \"confidence\": 0.95,\n",
      "      \"bbox\": null,\n",
      "      \"element_type\": \"text\",\n",
      "      \"page_number\": 0\n",
      "    },\n",
      "    {\n",
      "      \"text\": \"257353445380257387455410While Odinson already provides a declarative language readily available for end users, the query compiler was designed to decouple the rule language from the specific low level operations that need to be performed on the index through the use of an intermediate representation. This allows different languages to target Odinsons intermediate representations and take advantage of the compiler to generate highly efficient queries that can be used in the Odin-on framework. Further, our compiler performs several optimizations on the query to greatly improve its efficiency. 7text\",\n",
      "      \"confidence\": 0.95,\n",
      "      \"bbox\": null,\n",
      "      \"element_type\": \"text\",\n",
      "      \"page_number\": 0\n",
      "    },\n",
      "    {\n",
      "      \"text\": \"1604622274696. Query Compilation and Execution1\",\n",
      "      \"confidence\": 0.95,\n",
      "      \"bbox\": null,\n",
      "      \"element_type\": \"text\",\n",
      "      \"page_number\": 0\n",
      "    },\n",
      "    {\n",
      "      \"text\": \"text47474243485Once a user has provided a query in our declarative language, Odinson complies and executes it. For runtime optimization, Odinson aims to index as much as possible, buttext\",\n",
      "      \"confidence\": 0.95,\n",
      "      \"bbox\": null,\n",
      "      \"element_type\": \"text\",\n",
      "      \"page_number\": 0\n",
      "    },\n",
      "    {\n",
      "      \"text\": \"text47490243510not everything can be indexed. For this reason, we use a multi-step, tiered execution of queries. Queries which do not involve syntax are compiled into an index query and matched against the inverted index only (recall Figure 3).text\",\n",
      "      \"confidence\": 0.95,\n",
      "      \"bbox\": null,\n",
      "      \"element_type\": \"text\",\n",
      "      \"page_number\": 0\n",
      "    },\n",
      "    {\n",
      "      \"text\": \"text47512243548Queries which do involve syntax are compiled into both an index query as well as a graph traversal pattern. However, the latter is only executed if the former matches. To help explain these representations, as well as the tiered query execution, consider the query and three sentences shown in Figure 6 alongside the detailed explanations below:text\",\n",
      "      \"confidence\": 0.95,\n",
      "      \"bbox\": null,\n",
      "      \"element_type\": \"text\",\n",
      "      \"page_number\": 0\n",
      "    },\n",
      "    {\n",
      "      \"text\": \"text257421455457Index query: For the user query shown in Figure 6, pretzels nsubj xcomp thirsty , the compiler builds an index query by collapsing the beginning of the graph traversal (i.e., nsubj) to the adjacent word (pretzels ), where the token field (i.e., incoming or outgoing) is chosen based on the direction of the dependency. This results in [wordpretzels  incomingnsubj].text\",\n",
      "      \"confidence\": 0.95,\n",
      "      \"bbox\": null,\n",
      "      \"element_type\": \"text\",\n",
      "      \"page_number\": 0\n",
      "    },\n",
      "    {\n",
      "      \"text\": \"2414802604862187\",\n",
      "      \"confidence\": 0.95,\n",
      "      \"bbox\": null,\n",
      "      \"element_type\": \"text\",\n",
      "      \"page_number\": 0\n",
      "    },\n",
      "    {\n",
      "      \"text\": \"text4134144547AUDrey ate ramen with chopsticks andtext\",\n",
      "      \"confidence\": 0.95,\n",
      "      \"bbox\": null,\n",
      "      \"element_type\": \"text\",\n",
      "      \"page_number\": 0\n",
      "    },\n",
      "    {\n",
      "      \"text\": \"text4135144557AUD-NP O-NP B-NP B-NPtext\",\n",
      "      \"confidence\": 0.95,\n",
      "      \"bbox\": null,\n",
      "      \"element_type\": \"text\",\n",
      "      \"page_number\": 0\n",
      "    },\n",
      "    {\n",
      "      \"text\": \"text4135944565NUSUBD (DOD)text\",\n",
      "      \"confidence\": 0.95,\n",
      "      \"bbox\": null,\n",
      "      \"element_type\": \"text\",\n",
      "      \"page_number\": 0\n",
      "    },\n",
      "    {\n",
      "      \"text\": \"text4136744573NMOD-WITHtext\",\n",
      "      \"confidence\": 0.95,\n",
      "      \"bbox\": null,\n",
      "      \"element_type\": \"text\",\n",
      "      \"page_number\": 0\n",
      "    },\n",
      "    {\n",
      "      \"text\": \"text4137544581(a) A sentence preannotated with chunks and dependencies.text\",\n",
      "      \"confidence\": 0.95,\n",
      "      \"bbox\": null,\n",
      "      \"element_type\": \"text\",\n",
      "      \"page_number\": 0\n",
      "    },\n",
      "    {\n",
      "      \"text\": \"41383445107\",\n",
      "      \"confidence\": 0.95,\n",
      "      \"bbox\": null,\n",
      "      \"element_type\": \"text\",\n",
      "      \"page_number\": 0\n",
      "    },\n",
      "    {\n",
      "      \"text\": \"text413109445115NUSUBD (DOD)text\",\n",
      "      \"confidence\": 0.95,\n",
      "      \"bbox\": null,\n",
      "      \"element_type\": \"text\",\n",
      "      \"page_number\": 0\n",
      "    },\n",
      "    {\n",
      "      \"text\": \"413116445131\",\n",
      "      \"confidence\": 0.95,\n",
      "      \"bbox\": null,\n",
      "      \"element_type\": \"text\",\n",
      "      \"page_number\": 0\n",
      "    },\n",
      "    {\n",
      "      \"text\": \"text413133445139(a) A trigger is found.text\",\n",
      "      \"confidence\": 0.95,\n",
      "      \"bbox\": null,\n",
      "      \"element_type\": \"text\",\n",
      "      \"page_number\": 0\n",
      "    },\n",
      "    {\n",
      "      \"text\": \"413140445155\",\n",
      "      \"confidence\": 0.95,\n",
      "      \"bbox\": null,\n",
      "      \"element_type\": \"text\",\n",
      "      \"page_number\": 0\n",
      "    },\n",
      "    {\n",
      "      \"text\": \"text413163445169(b)text\",\n",
      "      \"confidence\": 0.95,\n",
      "      \"bbox\": null,\n",
      "      \"element_type\": \"text\",\n",
      "      \"page_number\": 0\n",
      "    },\n",
      "    {\n",
      "      \"text\": \"text413171445177(c)text\",\n",
      "      \"confidence\": 0.95,\n",
      "      \"bbox\": null,\n",
      "      \"element_type\": \"text\",\n",
      "      \"page_number\": 0\n",
      "    },\n",
      "    {\n",
      "      \"text\": \"text413179445185(d)text\",\n",
      "      \"confidence\": 0.95,\n",
      "      \"bbox\": null,\n",
      "      \"element_type\": \"text\",\n",
      "      \"page_number\": 0\n",
      "    },\n",
      "    {\n",
      "      \"text\": \"text413187445193(e)text\",\n",
      "      \"confidence\": 0.95,\n",
      "      \"bbox\": null,\n",
      "      \"element_type\": \"text\",\n",
      "      \"page_number\": 0\n",
      "    },\n",
      "    {\n",
      "      \"text\": \"text413202445208(a) A sentence preannotated with chunks and dependencies.text\",\n",
      "      \"confidence\": 0.95,\n",
      "      \"bbox\": null,\n",
      "      \"element_type\": \"text\",\n",
      "      \"page_number\": 0\n",
      "    },\n",
      "    {\n",
      "      \"text\": \"413210445225\",\n",
      "      \"confidence\": 0.95,\n",
      "      \"bbox\": null,\n",
      "      \"element_type\": \"text\",\n",
      "      \"page_number\": 0\n",
      "    },\n",
      "    {\n",
      "      \"text\": \"text413227445233(b)text\",\n",
      "      \"confidence\": 0.95,\n",
      "      \"bbox\": null,\n",
      "      \"element_type\": \"text\",\n",
      "      \"page_number\": 0\n",
      "    },\n",
      "    {\n",
      "      \"text\": \"text413235445241(c)text\",\n",
      "      \"confidence\": 0.95,\n",
      "      \"bbox\": null,\n",
      "      \"element_type\": \"text\",\n",
      "      \"page_number\": 0\n",
      "    },\n",
      "    {\n",
      "      \"text\": \"text413243445249(d)text\",\n",
      "      \"confidence\": 0.95,\n",
      "      \"bbox\": null,\n",
      "      \"element_type\": \"text\",\n",
      "      \"page_number\": 0\n",
      "    },\n",
      "    {\n",
      "      \"text\": \"text413250445256(e)text\",\n",
      "      \"confidence\": 0.95,\n",
      "      \"bbox\": null,\n",
      "      \"element_type\": \"text\",\n",
      "      \"page_number\": 0\n",
      "    },\n",
      "    {\n",
      "      \"text\": \"text413258445264(h)text\",\n",
      "      \"confidence\": 0.95,\n",
      "      \"bbox\": null,\n",
      "      \"element_type\": \"text\",\n",
      "      \"page_number\": 0\n",
      "    },\n",
      "    {\n",
      "      \"text\": \"text413266445272(h)text\",\n",
      "      \"confidence\": 0.95,\n",
      "      \"bbox\": null,\n",
      "      \"element_type\": \"text\",\n",
      "      \"page_number\": 0\n",
      "    },\n",
      "    {\n",
      "      \"text\": \"text413274445280(h)text\",\n",
      "      \"confidence\": 0.95,\n",
      "      \"bbox\": null,\n",
      "      \"element_type\": \"text\",\n",
      "      \"page_number\": 0\n",
      "    },\n",
      "    {\n",
      "      \"text\": \"text413282445288(h)text\",\n",
      "      \"confidence\": 0.95,\n",
      "      \"bbox\": null,\n",
      "      \"element_type\": \"text\",\n",
      "      \"page_number\": 0\n",
      "    },\n",
      "    {\n",
      "      \"text\": \"text413290445296(h)text\",\n",
      "      \"confidence\": 0.95,\n",
      "      \"bbox\": null,\n",
      "      \"element_type\": \"text\",\n",
      "      \"page_number\": 0\n",
      "    },\n",
      "    {\n",
      "      \"text\": \"text413298445304(h)text\",\n",
      "      \"confidence\": 0.95,\n",
      "      \"bbox\": null,\n",
      "      \"element_type\": \"text\",\n",
      "      \"page_number\": 0\n",
      "    },\n",
      "    {\n",
      "      \"text\": \"text413306445312(h)text\",\n",
      "      \"confidence\": 0.95,\n",
      "      \"bbox\": null,\n",
      "      \"element_type\": \"text\",\n",
      "      \"page_number\": 0\n",
      "    },\n",
      "    {\n",
      "      \"text\": \"text413314445320(e)text\",\n",
      "      \"confidence\": 0.95,\n",
      "      \"bbox\": null,\n",
      "      \"element_type\": \"text\",\n",
      "      \"page_number\": 0\n",
      "    },\n",
      "    {\n",
      "      \"text\": \"text413322445328(h)text\",\n",
      "      \"confidence\": 0.95,\n",
      "      \"bbox\": null,\n",
      "      \"element_type\": \"text\",\n",
      "      \"page_number\": 0\n",
      "    },\n",
      "    {\n",
      "      \"text\": \"text413330445336(h)text\",\n",
      "      \"confidence\": 0.95,\n",
      "      \"bbox\": null,\n",
      "      \"element_type\": \"text\",\n",
      "      \"page_number\": 0\n",
      "    },\n",
      "    {\n",
      "      \"text\": \"text413338445344(h)text\",\n",
      "      \"confidence\": 0.95,\n",
      "      \"bbox\": null,\n",
      "      \"element_type\": \"text\",\n",
      "      \"page_number\": 0\n",
      "    },\n",
      "    {\n",
      "      \"text\": \"text413346445352(h)text\",\n",
      "      \"confidence\": 0.95,\n",
      "      \"bbox\": null,\n",
      "      \"element_type\": \"text\",\n",
      "      \"page_number\": 0\n",
      "    },\n",
      "    {\n",
      "      \"text\": \"text413354445360(h)text\",\n",
      "      \"confidence\": 0.95,\n",
      "      \"bbox\": null,\n",
      "      \"element_type\": \"text\",\n",
      "      \"page_number\": 0\n",
      "    },\n",
      "    {\n",
      "      \"text\": \"text413362445368(h)text\",\n",
      "      \"confidence\": 0.95,\n",
      "      \"bbox\": null,\n",
      "      \"element_type\": \"text\",\n",
      "      \"page_number\": 0\n",
      "    },\n",
      "    {\n",
      "      \"text\": \"text413370445376(h)text\",\n",
      "      \"confidence\": 0.95,\n",
      "      \"bbox\": null,\n",
      "      \"element_type\": \"text\",\n",
      "      \"page_number\": 0\n",
      "    },\n",
      "    {\n",
      "      \"text\": \"text413378445384(h)text\",\n",
      "      \"confidence\": 0.95,\n",
      "      \"bbox\": null,\n",
      "      \"element_type\": \"text\",\n",
      "      \"page_number\": 0\n",
      "    },\n",
      "    {\n",
      "      \"text\": \"text413386445392(h)text\",\n",
      "      \"confidence\": 0.95,\n",
      "      \"bbox\": null,\n",
      "      \"element_type\": \"text\",\n",
      "      \"page_number\": 0\n",
      "    },\n",
      "    {\n",
      "      \"text\": \"text413394445400(h)text\",\n",
      "      \"confidence\": 0.95,\n",
      "      \"bbox\": null,\n",
      "      \"element_type\": \"text\",\n",
      "      \"page_number\": 0\n",
      "    },\n",
      "    {\n",
      "      \"text\": \"text4134\",\n",
      "      \"confidence\": 0.95,\n",
      "      \"bbox\": null,\n",
      "      \"element_type\": \"text\",\n",
      "      \"page_number\": 0\n",
      "    }\n",
      "  ],\n",
      "  \"metadata\": {\n",
      "    \"model_name\": \"SmolDocling-256M\",\n",
      "    \"image_path\": \"data/pdf1.pdf\",\n",
      "    \"page_number\": 3\n",
      "  },\n",
      "  \"processing_time\": 0.0,\n",
      "  \"model_name\": \"SmolDocling\",\n",
      "  \"confidence_score\": 0.95\n",
      "}\n"
     ]
    }
   ],
   "source": [
    "import json\n",
    "from dataclasses import asdict\n",
    "\n",
    "## Print the result in a readable format\n",
    "json_str = json.dumps(asdict(result[1]), indent=2)\n",
    "print(json_str)"
   ]
  },
  {
   "cell_type": "code",
   "execution_count": null,
   "id": "5982593e",
   "metadata": {},
   "outputs": [],
   "source": [
    "\n",
    "\n"
   ]
  },
  {
   "cell_type": "code",
   "execution_count": null,
   "id": "77c0f99f",
   "metadata": {},
   "outputs": [],
   "source": [
    "\n",
    "\n"
   ]
  },
  {
   "cell_type": "code",
   "execution_count": null,
   "id": "69738804",
   "metadata": {},
   "outputs": [],
   "source": [
    "\n",
    "\n"
   ]
  },
  {
   "cell_type": "code",
   "execution_count": null,
   "id": "348e0425",
   "metadata": {},
   "outputs": [],
   "source": [
    "\n",
    "\n"
   ]
  },
  {
   "cell_type": "code",
   "execution_count": null,
   "id": "fe8829ec",
   "metadata": {},
   "outputs": [],
   "source": [
    "\n",
    "\n"
   ]
  },
  {
   "cell_type": "code",
   "execution_count": null,
   "id": "9ec41e2a",
   "metadata": {},
   "outputs": [],
   "source": [
    "\n",
    "\n"
   ]
  },
  {
   "cell_type": "code",
   "execution_count": null,
   "id": "ea58d51b",
   "metadata": {},
   "outputs": [],
   "source": [
    "\n",
    "\n"
   ]
  },
  {
   "cell_type": "code",
   "execution_count": null,
   "id": "7186abb5",
   "metadata": {},
   "outputs": [],
   "source": [
    "\n",
    "\n"
   ]
  },
  {
   "cell_type": "code",
   "execution_count": null,
   "id": "04cc24a8",
   "metadata": {},
   "outputs": [],
   "source": [
    "\n",
    "\n"
   ]
  },
  {
   "cell_type": "code",
   "execution_count": null,
   "id": "fbb28ae2",
   "metadata": {},
   "outputs": [],
   "source": [
    "\n",
    "\n"
   ]
  },
  {
   "cell_type": "code",
   "execution_count": null,
   "id": "93e27396",
   "metadata": {},
   "outputs": [],
   "source": [
    "\n",
    "\n"
   ]
  },
  {
   "cell_type": "code",
   "execution_count": null,
   "id": "1a4336f5",
   "metadata": {},
   "outputs": [],
   "source": [
    "\n",
    "\n"
   ]
  },
  {
   "cell_type": "code",
   "execution_count": null,
   "id": "eb30104c",
   "metadata": {},
   "outputs": [],
   "source": [
    "\n",
    "\n"
   ]
  },
  {
   "cell_type": "code",
   "execution_count": null,
   "id": "73724591",
   "metadata": {},
   "outputs": [],
   "source": [
    "\n",
    "\n"
   ]
  },
  {
   "cell_type": "code",
   "execution_count": null,
   "id": "17b86cab",
   "metadata": {},
   "outputs": [],
   "source": [
    "\n",
    "\n"
   ]
  },
  {
   "cell_type": "code",
   "execution_count": null,
   "id": "0416abde",
   "metadata": {},
   "outputs": [],
   "source": [
    "\n",
    "\n"
   ]
  },
  {
   "cell_type": "code",
   "execution_count": null,
   "id": "5a19f07a",
   "metadata": {},
   "outputs": [],
   "source": [
    "\n",
    "\n"
   ]
  },
  {
   "cell_type": "code",
   "execution_count": null,
   "id": "1c818d3f",
   "metadata": {},
   "outputs": [],
   "source": [
    "\n",
    "\n"
   ]
  },
  {
   "cell_type": "code",
   "execution_count": null,
   "id": "9839c993",
   "metadata": {},
   "outputs": [],
   "source": [
    "\n",
    "\n"
   ]
  },
  {
   "cell_type": "code",
   "execution_count": null,
   "id": "63d17f35",
   "metadata": {},
   "outputs": [],
   "source": [
    "\n",
    "\n"
   ]
  },
  {
   "cell_type": "code",
   "execution_count": null,
   "id": "c3004866",
   "metadata": {},
   "outputs": [],
   "source": [
    "\n",
    "\n"
   ]
  },
  {
   "cell_type": "code",
   "execution_count": null,
   "id": "0ad63b65",
   "metadata": {},
   "outputs": [],
   "source": [
    "\n",
    "\n"
   ]
  },
  {
   "cell_type": "code",
   "execution_count": null,
   "id": "3e2b68d4",
   "metadata": {},
   "outputs": [],
   "source": [
    "\n",
    "\n"
   ]
  },
  {
   "cell_type": "code",
   "execution_count": null,
   "id": "4b80ffc1",
   "metadata": {},
   "outputs": [],
   "source": [
    "\n",
    "\n"
   ]
  },
  {
   "cell_type": "code",
   "execution_count": null,
   "id": "f6f2c5d5",
   "metadata": {},
   "outputs": [],
   "source": [
    "\n",
    "\n"
   ]
  },
  {
   "cell_type": "code",
   "execution_count": null,
   "id": "c76957e9",
   "metadata": {},
   "outputs": [],
   "source": [
    "\n",
    "\n"
   ]
  },
  {
   "cell_type": "code",
   "execution_count": null,
   "id": "ebec8382",
   "metadata": {},
   "outputs": [],
   "source": [
    "\n",
    "\n"
   ]
  },
  {
   "cell_type": "code",
   "execution_count": 6,
   "id": "51006650",
   "metadata": {},
   "outputs": [
    {
     "name": "stderr",
     "output_type": "stream",
     "text": [
      "c:\\Users\\saura\\Desktop\\BfR\\DocParser\\ocr\\Lib\\site-packages\\tqdm\\auto.py:21: TqdmWarning: IProgress not found. Please update jupyter and ipywidgets. See https://ipywidgets.readthedocs.io/en/stable/user_install.html\n",
      "  from .autonotebook import tqdm as notebook_tqdm\n",
      "c:\\Users\\saura\\Desktop\\BfR\\DocParser\\ocr\\Lib\\site-packages\\huggingface_hub\\file_download.py:143: UserWarning: `huggingface_hub` cache-system uses symlinks by default to efficiently store duplicated files but your machine does not support them in C:\\Users\\saura\\.cache\\huggingface\\hub\\models--ds4sd--SmolDocling-256M-preview. Caching files will still work but in a degraded version that might require more space on your disk. This warning can be disabled by setting the `HF_HUB_DISABLE_SYMLINKS_WARNING` environment variable. For more details, see https://huggingface.co/docs/huggingface_hub/how-to-cache#limitations.\n",
      "To support symlinks on Windows, you either need to activate Developer Mode or to run Python as an administrator. In order to activate developer mode, see this article: https://docs.microsoft.com/en-us/windows/apps/get-started/enable-your-device-for-development\n",
      "  warnings.warn(message)\n"
     ]
    }
   ],
   "source": [
    "parser = DocParser(OCREngine.SMALL_DOCLING, config, model_config)\n"
   ]
  },
  {
   "cell_type": "code",
   "execution_count": null,
   "id": "b5e6bfa6",
   "metadata": {},
   "outputs": [],
   "source": [
    "\n",
    "\n"
   ]
  },
  {
   "cell_type": "code",
   "execution_count": null,
   "id": "e8221123",
   "metadata": {},
   "outputs": [],
   "source": [
    "\n",
    "\n"
   ]
  },
  {
   "cell_type": "code",
   "execution_count": null,
   "id": "80beea23",
   "metadata": {},
   "outputs": [],
   "source": [
    "\n",
    "\n"
   ]
  },
  {
   "cell_type": "code",
   "execution_count": null,
   "id": "e606178b",
   "metadata": {},
   "outputs": [],
   "source": [
    "\n",
    "\n"
   ]
  },
  {
   "cell_type": "code",
   "execution_count": null,
   "id": "cc9e05a7",
   "metadata": {},
   "outputs": [],
   "source": [
    "\n",
    "\n"
   ]
  },
  {
   "cell_type": "code",
   "execution_count": null,
   "id": "4849c009",
   "metadata": {},
   "outputs": [],
   "source": [
    "\n",
    "\n"
   ]
  },
  {
   "cell_type": "code",
   "execution_count": null,
   "id": "aef3b566",
   "metadata": {},
   "outputs": [],
   "source": [
    "\n",
    "\n"
   ]
  },
  {
   "cell_type": "code",
   "execution_count": null,
   "id": "8038eb65",
   "metadata": {},
   "outputs": [],
   "source": [
    "\n",
    "\n"
   ]
  },
  {
   "cell_type": "code",
   "execution_count": null,
   "id": "4d9b5209",
   "metadata": {},
   "outputs": [],
   "source": [
    "\n",
    "\n"
   ]
  },
  {
   "cell_type": "code",
   "execution_count": null,
   "id": "4b41f90b",
   "metadata": {},
   "outputs": [],
   "source": [
    "\n",
    "\n"
   ]
  },
  {
   "cell_type": "code",
   "execution_count": null,
   "id": "3d76aadc",
   "metadata": {},
   "outputs": [],
   "source": [
    "\n",
    "\n"
   ]
  }
 ],
 "metadata": {
  "kernelspec": {
   "display_name": "ocr",
   "language": "python",
   "name": "python3"
  },
  "language_info": {
   "codemirror_mode": {
    "name": "ipython",
    "version": 3
   },
   "file_extension": ".py",
   "mimetype": "text/x-python",
   "name": "python",
   "nbconvert_exporter": "python",
   "pygments_lexer": "ipython3",
   "version": "3.12.6"
  }
 },
 "nbformat": 4,
 "nbformat_minor": 5
}
