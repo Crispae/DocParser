{
 "cells": [
  {
   "cell_type": "code",
   "execution_count": 1,
   "id": "5d300dcd",
   "metadata": {},
   "outputs": [],
   "source": [
    "from PIL import Image\n",
    "from transformers import AutoTokenizer, AutoProcessor, AutoModelForImageTextToText"
   ]
  },
  {
   "cell_type": "code",
   "execution_count": 2,
   "id": "e1ef0c5b",
   "metadata": {},
   "outputs": [
    {
     "data": {
      "application/vnd.jupyter.widget-view+json": {
       "model_id": "2609c8c7c0db4323a71fce022241f6c6",
       "version_major": 2,
       "version_minor": 0
      },
      "text/plain": [
       "Loading checkpoint shards:   0%|          | 0/2 [00:00<?, ?it/s]"
      ]
     },
     "metadata": {},
     "output_type": "display_data"
    },
    {
     "data": {
      "text/plain": [
       "Qwen2_5_VLForConditionalGeneration(\n",
       "  (model): Qwen2_5_VLModel(\n",
       "    (visual): Qwen2_5_VisionTransformerPretrainedModel(\n",
       "      (patch_embed): Qwen2_5_VisionPatchEmbed(\n",
       "        (proj): Conv3d(3, 1280, kernel_size=(2, 14, 14), stride=(2, 14, 14), bias=False)\n",
       "      )\n",
       "      (rotary_pos_emb): Qwen2_5_VisionRotaryEmbedding()\n",
       "      (blocks): ModuleList(\n",
       "        (0-31): 32 x Qwen2_5_VLVisionBlock(\n",
       "          (norm1): Qwen2RMSNorm((1280,), eps=1e-06)\n",
       "          (norm2): Qwen2RMSNorm((1280,), eps=1e-06)\n",
       "          (attn): Qwen2_5_VLVisionAttention(\n",
       "            (qkv): Linear(in_features=1280, out_features=3840, bias=True)\n",
       "            (proj): Linear(in_features=1280, out_features=1280, bias=True)\n",
       "          )\n",
       "          (mlp): Qwen2_5_VLMLP(\n",
       "            (gate_proj): Linear(in_features=1280, out_features=3420, bias=True)\n",
       "            (up_proj): Linear(in_features=1280, out_features=3420, bias=True)\n",
       "            (down_proj): Linear(in_features=3420, out_features=1280, bias=True)\n",
       "            (act_fn): SiLU()\n",
       "          )\n",
       "        )\n",
       "      )\n",
       "      (merger): Qwen2_5_VLPatchMerger(\n",
       "        (ln_q): Qwen2RMSNorm((1280,), eps=1e-06)\n",
       "        (mlp): Sequential(\n",
       "          (0): Linear(in_features=5120, out_features=5120, bias=True)\n",
       "          (1): GELU(approximate='none')\n",
       "          (2): Linear(in_features=5120, out_features=2048, bias=True)\n",
       "        )\n",
       "      )\n",
       "    )\n",
       "    (language_model): Qwen2_5_VLTextModel(\n",
       "      (embed_tokens): Embedding(151936, 2048)\n",
       "      (layers): ModuleList(\n",
       "        (0-35): 36 x Qwen2_5_VLDecoderLayer(\n",
       "          (self_attn): Qwen2_5_VLAttention(\n",
       "            (q_proj): Linear(in_features=2048, out_features=2048, bias=True)\n",
       "            (k_proj): Linear(in_features=2048, out_features=256, bias=True)\n",
       "            (v_proj): Linear(in_features=2048, out_features=256, bias=True)\n",
       "            (o_proj): Linear(in_features=2048, out_features=2048, bias=False)\n",
       "            (rotary_emb): Qwen2_5_VLRotaryEmbedding()\n",
       "          )\n",
       "          (mlp): Qwen2MLP(\n",
       "            (gate_proj): Linear(in_features=2048, out_features=11008, bias=False)\n",
       "            (up_proj): Linear(in_features=2048, out_features=11008, bias=False)\n",
       "            (down_proj): Linear(in_features=11008, out_features=2048, bias=False)\n",
       "            (act_fn): SiLU()\n",
       "          )\n",
       "          (input_layernorm): Qwen2RMSNorm((2048,), eps=1e-06)\n",
       "          (post_attention_layernorm): Qwen2RMSNorm((2048,), eps=1e-06)\n",
       "        )\n",
       "      )\n",
       "      (norm): Qwen2RMSNorm((2048,), eps=1e-06)\n",
       "      (rotary_emb): Qwen2_5_VLRotaryEmbedding()\n",
       "    )\n",
       "  )\n",
       "  (lm_head): Linear(in_features=2048, out_features=151936, bias=False)\n",
       ")"
      ]
     },
     "execution_count": 2,
     "metadata": {},
     "output_type": "execute_result"
    }
   ],
   "source": [
    "model_path = \"nanonets/Nanonets-OCR-s\"\n",
    "\n",
    "model = AutoModelForImageTextToText.from_pretrained(\n",
    "    model_path, \n",
    "    torch_dtype=\"auto\", \n",
    "    device_map=\"auto\", \n",
    "    #ttn_implementation=\"flash_attention_2\"\n",
    ")\n",
    "model.eval()"
   ]
  },
  {
   "cell_type": "code",
   "execution_count": 4,
   "id": "0cc06ac3",
   "metadata": {},
   "outputs": [],
   "source": [
    "\n",
    "tokenizer = AutoTokenizer.from_pretrained(model_path)\n",
    "processor = AutoProcessor.from_pretrained(model_path,use_fast=True)\n",
    "from transformers.image_utils import load_image\n"
   ]
  },
  {
   "cell_type": "code",
   "execution_count": 5,
   "id": "cbdae9b6",
   "metadata": {},
   "outputs": [],
   "source": [
    "image_path = \"../data/table.jpg\""
   ]
  },
  {
   "cell_type": "code",
   "execution_count": 14,
   "id": "840eb71a",
   "metadata": {},
   "outputs": [],
   "source": [
    "prompt_text = \"\"\"Extract the text from the above document as if you were reading it naturally. Return the tables in html format. Return the equations in LaTeX representation. If there is an image in the document and image caption is not present, add a small description of the image inside the <img></img> tag; otherwise, add the image caption inside <img></img>. Watermarks should be wrapped in brackets. Ex: <watermark>OFFICIAL COPY</watermark>. Page numbers should be wrapped in brackets. Ex: <page_number>14</page_number> or <page_number>9/22</page_number>. Prefer using ☐ and ☑ for check boxes. For table use <table></table> tags.\"\"\"\n",
    "image = load_image(image_path)\n",
    "messages = [\n",
    "        {\"role\": \"system\", \"content\": \"You are a helpful assistant.\"},\n",
    "        {\"role\": \"user\", \"content\": [\n",
    "            {\"type\": \"image\"},\n",
    "            {\"type\": \"text\", \"text\": prompt_text},\n",
    "        ]},\n",
    "    ]"
   ]
  },
  {
   "cell_type": "code",
   "execution_count": 15,
   "id": "71860935",
   "metadata": {},
   "outputs": [],
   "source": [
    "prompt = processor.apply_chat_template(messages, tokenize=False, add_generation_prompt=True)\n",
    "inputs = processor(text=prompt, images=[image], padding= True,return_tensors=\"pt\")\n",
    "inputs = inputs.to(\"cuda\")"
   ]
  },
  {
   "cell_type": "code",
   "execution_count": 16,
   "id": "b20e78eb",
   "metadata": {},
   "outputs": [
    {
     "name": "stderr",
     "output_type": "stream",
     "text": [
      "The following generation flags are not valid and may be ignored: ['temperature']. Set `TRANSFORMERS_VERBOSITY=info` for more details.\n"
     ]
    }
   ],
   "source": [
    "generated_ids = model.generate(**inputs, max_new_tokens=15000, do_sample=False)"
   ]
  },
  {
   "cell_type": "code",
   "execution_count": 17,
   "id": "f3a9a794",
   "metadata": {},
   "outputs": [],
   "source": [
    "prompt_length = inputs.input_ids.shape[1]"
   ]
  },
  {
   "cell_type": "code",
   "execution_count": 18,
   "id": "623065c7",
   "metadata": {},
   "outputs": [],
   "source": [
    "trimmed_generated_ids = generated_ids[:, prompt_length:]"
   ]
  },
  {
   "cell_type": "code",
   "execution_count": 19,
   "id": "80892aab",
   "metadata": {},
   "outputs": [],
   "source": [
    "output = processor.batch_decode(trimmed_generated_ids,skip_special_tokens=True)[0].lstrip()"
   ]
  },
  {
   "cell_type": "code",
   "execution_count": 20,
   "id": "68ef8213",
   "metadata": {},
   "outputs": [
    {
     "name": "stdout",
     "output_type": "stream",
     "text": [
      "A. Crépet et al.\n",
      "International Journal of Hygiene and Environmental Health 222 (2019) 291–306\n",
      "\n",
      "**Table 1**\n",
      "Description of consumption and concentration data for nine different European countries. n = number of individuals in the overall consumption survey. N = number of individuals included in this study (adults 18–64 years old, children 11–15 years old). N = number of substances in steatosis CAG after matching with contamination data; the number in brackets indicates the number of substances with measurements ≥ LOD. No national monitoring data was available for Spain (SP) and the United Kingdom (UK).\n",
      "\n",
      "| Country | Consumption survey | Consumption data used for the study | National concentration survey |\n",
      "|---|---|---|---|\n",
      "|  | Method | Years | Name | Population | n total | Mean age | Weight mean | n | Years | N | Number of measurements | Measurements ≥ LOD in total measurements (%) |\n",
      "|  |  |  |  | Adults (14-105 years) | 3214 | 40 (18-64) | 71.4 (69-133) | 1356 | 2011-2014 | 115 (39) | 393,967 | 0.87% |\n",
      "|  |  |  | Diet National 2004 | Adults (14-105 years) | 303 | 12.8 (11-15) | 54.0 (27-144) | 303 | 2011-2014 | 81 (48) | 124,599 | 0.72% |\n",
      "|  |  |  | Child Health | Adults (18-64 years) | 1666 | 43.0 (18-64) | 75.8 (63-183) | 1666 | 2011-2014 | 42 (37) | 153,696 | 1.35% |\n",
      "|  |  |  | SISPO4 | Children (11-14 years) | 109 | 12.3 (11-14) | 46.1 (27-83) | 109 |  |  |  |  | 0.62% |\n",
      "|  |  |  | 7-d record | Adults (18-79 years) | 1990 | 43.0 (18-64) | 75.8 (63-183) | 1710 | 2011-2014 | 95 (58) | 503,879 | 0.62% |\n",
      "|  |  |  | 2003-2008 | DANSDA 2005-08 | 1710 | 12.7 (11-15) | 52.3 (28-100) | 234 |  |  |  |  | 0.53% |\n",
      "|  |  |  |  | Children (4-17 years) | 710 | 12.7 (11-15) | 52.3 (28-100) | 2276 | 2010-2014 | 120 (70) | 907,565 | 0.53% |\n",
      "|  |  |  | 7-d record | Adults (18-79 years) | 2624 | 40.6 (18-64) | 70.6 (55-171) | 2276 | 2010-2014 | 120 (70) | 907,565 | 0.53% |\n",
      "|  |  |  | 2005-2007 | INCA2 | 1455 | 13.1 (11-15) | 49.5 (25-128) | 585 |  |  |  |  | 0.65% |\n",
      "|  |  |  |  | Children (3-17 years) | 1455 | 13.1 (11-15) | 49.5 (25-128) | 1585 | 2010-2014 | 91 (56) | 324,561 | 0.65% |\n",
      "|  |  |  | 3-d record | Adults (18-99 years) | 1640 | 33.2 (11-41) | 72.9 (60-141) | 1585 | 2010-2014 | 91 (56) | 324,561 | 0.65% |\n",
      "|  |  |  | 1988-2004 | Regional Crete | 1455 | 13.4 (11-15) | 55.3 (26-109) | 528 |  |  |  |  | 0.89% |\n",
      "|  |  |  |  | Children (11-15 years) | 528 | 13.4 (11-15) | 55.3 (26-109) | 2056 | 2010-2013 | 110 (67) | 643,538 | 0.89% |\n",
      "|  |  |  | 3-d record | Adults (18-64 years) | 2230 | 41.5 (18-64) | 80.3 (39-192) | 2056 | 2010-2013 | 110 (67) | 643,538 | 0.89% |\n",
      "|  |  |  | 2007-2010 | VCP-Basic | 1589 | 13.0 (11-15) | 52.5 (27-116) | 727 |  |  |  |  | 0.49% |\n",
      "|  |  |  |  | Adults (18-65 years) | 407 | 41.4 (18-64) | 74.5 (44-125) | 400 | 2012-2014 | 87 (40) | 109,810 | 0.49% |\n",
      "|  |  |  | 24-h recall | Adults (18-65 years) | 3386 | 39.4 (18-64) | 68.5 (41-140) | 3371 |  |  |  |  |  |\n",
      "|  |  |  | 2007-2008 | CRP 2008 | 407 | 41.4 (18-64) | 68.5 (41-140) | 400 | 2012-2014 | 87 (40) | 109,810 | 0.49% |\n",
      "|  |  |  | 3-d record | Adults (18-71 years) | 3386 | 39.4 (18-64) | 68.5 (41-140) | 3371 |  |  |  |  |  |\n",
      "|  |  |  | 2011 | Encuesta ENIDE | 407 | 41.4 (18-64) | 68.5 (41-140) | 400 | 2012-2014 | 87 (40) | 109,810 | 0.49% |\n",
      "|  |  |  | 7-d record | Adults (19-64 years) | 1724 | 40.6 (19-64) | 76.3 (39-200) | 1724 |  |  |  |  |  |\n",
      "\n",
      "*In vitro* studies were considered for information on the mechanism/mode of action only.\n",
      "\n",
      "*Studies performed with metabolites were not included, except when the metabolite itself was used in the toxicity studies instead of the parent compound due to its high instability.*\n",
      "\n",
      "*In the particular case where the active substance consists of isomer mixtures, the studies performed with the racemic mixture and those carried out with the different isomers were reported.*\n",
      "\n",
      "*When different isomers and/or variants were considered to be toxicologically equivalent, the same specific effect was applied and the studies were reported only once.*\n",
      "\n",
      "Substances were coded using the ParamCodes from the harmonised European Standard Sample Description 1 format SDD1 ([EFSA, 2010](#)). Substances were removed if no ParamCode coding for pesticides, no NOAL or no LOAEL (copper compounds) were available. Some substances sharing the same residue definition (benalaxyl-M and benalaxyl, cypermethrin and alpha-cypermethrin, metam and dazomet, metalaxyl-M and metalaxyl, triadimefon and triadimenol) were presented together in the database. This approach resulted in a total of 144 pesticides.\n",
      "\n",
      "Relative potency factors (RPFs) were calculated to express the potency of each substance in the CAG relative to a selected reference compound chosen based on the following criteria:\n",
      "\n",
      "*Considering that longer-term studies (i.e.12, 18 and 24 months) were generally performed using lower concentrations compared to shorter-term studies (i.e. 28 or 90 days), priority was given to long-term studies.*\n",
      "\n",
      "*Compounds characterised by an NOAEL causing fatty changes (steatosis) between 0 and 1 mg/kg bw/day, were first selected (to avoid the selection of an index compound eliciting other organ and/or different liver effects at doses lower that those eliciting fatty changes).*\n",
      "\n",
      "*The second step in selection was made on the basis of the LOAEL/NOAEL ratio (between 1 and 5) to avoid dose-spacing uncertainties.*\n",
      "\n",
      "*The third step in selection was made taking into consideration only those compounds also causing cell degeneration/cell alteration or cell death at similar or higher doses.*\n",
      "\n",
      "*As a final step, the compound with more studies showing liver effects was chosen as the reference compound.*\n",
      "\n",
      "The minimum required data set for calculation of potency was a well-performed chronic study with a dose-range that could provide a LOAEL for steatosis. The more studies available, the extent to which the above mentioned criteria could be applied to select the NOAEL or LOAEL of a particular substance to calculate its potency.\n",
      "\n",
      "Flusilazole complying with the above criteria was selected as the reference compound. Data came from 4 long term studies where liver effects were evident and LOAEL/NOAEL ratio for fatty changes spaced between 2 and 5. Its NOAEL for fatty changes was of 0.53 mg/kg bw/day.\n",
      "\n",
      "For each compound, the NOAEL of flusilazole was divided by the NOAEL of the particular compound, which yielded the RPF. When no NOAEL was available, the LOAEL divided by three was used as an assumption of the NOAEL. The RPFs make it possible to convert exposure to the substances into the “toxicity unit” of the reference compound, and thus to compare the exposure levels between substances within a CAG.\n",
      "\n",
      "### 2.2.2. Consumption data\n",
      "\n",
      "Food consumption data from the different countries were coded according to the harmonised FoodEx1 coding system ([EFSA, 2011](#)). FoodEx1 is a hierarchical system based on 20 main food categories divided into subgroups up to a maximum of 4 levels. For example, chocolate cake is given a numerical code responding to ‘grain and grain-based products’ at level 1, to ‘fine bakery wares’ at level 2, to\n"
     ]
    }
   ],
   "source": [
    "print(output)"
   ]
  },
  {
   "cell_type": "code",
   "execution_count": null,
   "id": "adc01f98",
   "metadata": {},
   "outputs": [],
   "source": []
  }
 ],
 "metadata": {
  "kernelspec": {
   "display_name": "ocr",
   "language": "python",
   "name": "python3"
  },
  "language_info": {
   "codemirror_mode": {
    "name": "ipython",
    "version": 3
   },
   "file_extension": ".py",
   "mimetype": "text/x-python",
   "name": "python",
   "nbconvert_exporter": "python",
   "pygments_lexer": "ipython3",
   "version": "3.11.0"
  }
 },
 "nbformat": 4,
 "nbformat_minor": 5
}
