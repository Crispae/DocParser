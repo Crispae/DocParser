{
 "cells": [
  {
   "cell_type": "code",
   "execution_count": 4,
   "id": "2020ffb7",
   "metadata": {},
   "outputs": [],
   "source": [
    "from transformers import AutoProcessor, AutoModelForVision2Seq\n",
    "from transformers.image_utils import load_image\n",
    "from pathlib import Path\n",
    "import torch"
   ]
  },
  {
   "cell_type": "code",
   "execution_count": 5,
   "id": "56988eb2",
   "metadata": {},
   "outputs": [],
   "source": [
    "DEVICE = \"cuda\" if torch.cuda.is_available() else \"cpu\""
   ]
  },
  {
   "cell_type": "code",
   "execution_count": 6,
   "id": "ed505dd9",
   "metadata": {},
   "outputs": [],
   "source": [
    "image = load_image(\"../data/page_1.jpeg\")"
   ]
  },
  {
   "cell_type": "code",
   "execution_count": 7,
   "id": "8374c450",
   "metadata": {},
   "outputs": [],
   "source": [
    "processor = AutoProcessor.from_pretrained(\"ds4sd/SmolDocling-256M-preview\")\n",
    "model = AutoModelForVision2Seq.from_pretrained(\n",
    "    \"ds4sd/SmolDocling-256M-preview\",\n",
    "    torch_dtype=torch.bfloat16,\n",
    ").to(DEVICE)"
   ]
  },
  {
   "cell_type": "code",
   "execution_count": 8,
   "id": "27af5181",
   "metadata": {},
   "outputs": [],
   "source": [
    "# Create input messages\n",
    "messages = [\n",
    "    {\n",
    "        \"role\": \"user\",\n",
    "        \"content\": [\n",
    "            {\"type\": \"image\"},\n",
    "            {\"type\": \"text\", \"text\": \"Convert this page to docling.\"}\n",
    "        ]\n",
    "    },\n",
    "]"
   ]
  },
  {
   "cell_type": "code",
   "execution_count": 9,
   "id": "f5bbca1d",
   "metadata": {},
   "outputs": [
    {
     "name": "stderr",
     "output_type": "stream",
     "text": [
      "Truncation was not explicitly activated but `max_length` is provided a specific value, please use `truncation=True` to explicitly truncate examples to max length. Defaulting to 'longest_first' truncation strategy. If you encode pairs of sequences (GLUE-style) with the tokenizer you can select this strategy more precisely by providing a specific strategy to `truncation`.\n"
     ]
    }
   ],
   "source": [
    "prompt = processor.apply_chat_template(messages, add_generation_prompt=True)\n",
    "inputs = processor(text=prompt, images=[image], return_tensors=\"pt\")\n",
    "inputs = inputs.to(DEVICE)"
   ]
  },
  {
   "cell_type": "code",
   "execution_count": 10,
   "id": "0ed38c55",
   "metadata": {},
   "outputs": [],
   "source": [
    "generated_ids = model.generate(**inputs, max_new_tokens=8192)"
   ]
  },
  {
   "cell_type": "code",
   "execution_count": 11,
   "id": "65251426",
   "metadata": {},
   "outputs": [],
   "source": [
    "prompt_length = inputs.input_ids.shape[1]"
   ]
  },
  {
   "cell_type": "code",
   "execution_count": 12,
   "id": "87dbcdf1",
   "metadata": {},
   "outputs": [
    {
     "data": {
      "text/plain": [
       "878"
      ]
     },
     "execution_count": 12,
     "metadata": {},
     "output_type": "execute_result"
    }
   ],
   "source": [
    "prompt_length"
   ]
  },
  {
   "cell_type": "code",
   "execution_count": 13,
   "id": "a957c106",
   "metadata": {},
   "outputs": [],
   "source": [
    "trimmed_generated_ids = generated_ids[:, prompt_length:]"
   ]
  },
  {
   "cell_type": "code",
   "execution_count": 14,
   "id": "9752c473",
   "metadata": {},
   "outputs": [],
   "source": [
    "doctags  = processor.batch_decode(trimmed_generated_ids,skip_special_tokens=False)[0].lstrip()"
   ]
  },
  {
   "cell_type": "code",
   "execution_count": 15,
   "id": "e8a8b7ea",
   "metadata": {},
   "outputs": [],
   "source": [
    "from docling_core.types.doc import DoclingDocument\n",
    "from docling_core.types.doc.document import DocTagsDocument"
   ]
  },
  {
   "cell_type": "code",
   "execution_count": 16,
   "id": "af9f0d4d",
   "metadata": {},
   "outputs": [
    {
     "name": "stdout",
     "output_type": "stream",
     "text": [
      "<doctag><page_header><loc_15><loc_157><loc_31><loc_362>arXiv:2302.13971v1 [cs.CL] 27 Feb 2023</page_header>\n",
      "<section_header_level_1><loc_95><loc_44><loc_405><loc_53>LLaMA: Open and Efficient Foundation Language Models</section_header_level_1>\n",
      "<text><loc_94><loc_68><loc_408><loc_103>Hugo Touvron$^{*}$ Thibaut Lavril$^{†}$ Gautier Izacard$^{†}$ Xavier Martinet Marie-Anne Lachaux, Timothee Lacroix, Baptiste Rozière, Naman Goyal Eric Hambro, Faisal Azhar, Aurelien Rodriguez, Armand Joulin Edouard Grave$^{†}$ Guillaume Lample$^{*}$</text>\n",
      "<section_header_level_1><loc_232><loc_108><loc_268><loc_115>Meta AI</section_header_level_1>\n",
      "<section_header_level_1><loc_131><loc_129><loc_170><loc_136>Abstract</section_header_level_1>\n",
      "<text><loc_69><loc_141><loc_230><loc_226>We introduce LLaMA, a collection of foundation language models ranging from 7B to 65B parameters. We train our models on trillions of tokens, and show that it is possible to train state-of-the-art models using publicly available datasets exclusively, without resorting to proprietary and inaccessible datasets. In particular, LLaMA-13B outperforms GPT-3 (175B) on most benchmarks, and LLaMA65B is competitive with the best models, Chinchilla-70B and PaLM-540B. We release all our models to the research community$^{1}$.</text>\n",
      "<section_header_level_1><loc_54><loc_233><loc_126><loc_241>1 Introduction</section_header_level_1>\n",
      "<text><loc_54><loc_246><loc_244><loc_357>Large Languages Models (LMs) trained on massive corpora of texts have shown their ability to perform new tasks from textual instructions or from a few examples (Brown et al., 2020). These few-shot properties first appeared when scaling models to a sufficient size (Kaplan et al., 2020), resulting in a more work that focuses on further scaling these models (Chowdhery et al., 2022; Rae et al., 2021). These efforts are based on the assumption that more parameters will lead to better performance. However, recent work from Hoffman et al. (2022) shows that, for a given compute budget, the best performances are not achieved by the largest models, but by smaller models trained on more data.</text>\n",
      "<text><loc_54><loc_358><loc_244><loc_440>The objective of the scaling laws from Hoffmann et al. (2022) is to determine how to best scale the dataset and model sizes for a particular training compute budget. However, this objective disregards the inference budget, which becomes critical when serving a language model at scale. In this context, given a target level of performance, the preferred model is not the fastest to train but the fastest at inference, and although it may be cheaper to train a large model to reach a certain level of</text>\n",
      "<footnote><loc_69><loc_443><loc_244><loc_456>$^{*}$ Equal contribution. Correspondence: {$^{thouvron}$, thibautlav, gizacard, egreve, glample}$^{ℓ}$meta.com</footnote>\n",
      "<footnote><loc_69><loc_456><loc_212><loc_462>$^{1}$https://github.com/facebookresearch/llama</footnote>\n",
      "<text><loc_256><loc_129><loc_445><loc_176>performance, a smaller one trained longer will ultimately be cheaper at inference. For instance, although Hoffmann et al. (2022) recommends training a 10B model on 200B tokens, we find that the performance of a 7B model continues to improve even after 1T tokens.</text>\n",
      "<text><loc_256><loc_184><loc_445><loc_293>The focus of this work is to train a series of language models that achieve the best possible performance at various inference budgets, by training on more tokens than what is typically used. The resulting models, called LLaMA , ranges from 7B to 65B parameters with competitive performance compared to the best existing LLMs. For instance, LLaMA-13B outperforms GPT-3 on most benchmarks, despite being 10 × smaller. We believe that this model will help democratize the access and study of LLMs, since it can be run on a single GPU. At the higher-end of the scale, our 65B-parameter model is also competitive with the best large language models such as Chinchilla or PaLM-540B.</text>\n",
      "<text><loc_256><loc_302><loc_445><loc_383>Unlike Chinchilla, PaLM, or GPT-3, we only use publicly available data, making our work compatible with open-sourcing, while most existing models rely on data which is either not publicly available or undocumented (e.g. \"Books - 2TB\" or \"Social media conversations\"). There exist some exceptions, notably OPT (Zhang et al., 2022), GPT-NeoX (Black et al., 2022), BLOOM (Scao et al., 2022) and GLM (Zeng et al., 2022), but none that are competitive with PaLM-62B or Chinchilla.</text>\n",
      "<text><loc_256><loc_391><loc_445><loc_462>In the rest of this paper, we present an overview of the modifications we made to the transformer architecture (Vaswani et al., 2017), as well as our training method. We then report the performance of our models and compare with others LLMs on a set of standard benchmarks. Finally, we expose some of the biases and toxicity encoded in our models, using some of the most recent benchmarks from the responsible AI community.</text>\n",
      "</doctag><end_of_utterance>\n"
     ]
    }
   ],
   "source": [
    "doctags_doc = DocTagsDocument.from_doctags_and_image_pairs([doctags], [image])\n",
    "print(doctags)"
   ]
  },
  {
   "cell_type": "code",
   "execution_count": 17,
   "id": "0a922ef4",
   "metadata": {},
   "outputs": [],
   "source": [
    "doc = DoclingDocument.load_from_doctags(doctags_doc, document_name=\"Document\")"
   ]
  },
  {
   "cell_type": "code",
   "execution_count": 18,
   "id": "8f95a649",
   "metadata": {},
   "outputs": [
    {
     "name": "stdout",
     "output_type": "stream",
     "text": [
      "## LLaMA: Open and Efficient Foundation Language Models\n",
      "\n",
      "Hugo Touvron$^{*}$ Thibaut Lavril$^{†}$ Gautier Izacard$^{†}$ Xavier Martinet Marie-Anne Lachaux, Timothee Lacroix, Baptiste Rozière, Naman Goyal Eric Hambro, Faisal Azhar, Aurelien Rodriguez, Armand Joulin Edouard Grave$^{†}$ Guillaume Lample$^{*}$\n",
      "\n",
      "## Meta AI\n",
      "\n",
      "## Abstract\n",
      "\n",
      "We introduce LLaMA, a collection of foundation language models ranging from 7B to 65B parameters. We train our models on trillions of tokens, and show that it is possible to train state-of-the-art models using publicly available datasets exclusively, without resorting to proprietary and inaccessible datasets. In particular, LLaMA-13B outperforms GPT-3 (175B) on most benchmarks, and LLaMA65B is competitive with the best models, Chinchilla-70B and PaLM-540B. We release all our models to the research community$^{1}$.\n",
      "\n",
      "## 1 Introduction\n",
      "\n",
      "Large Languages Models (LMs) trained on massive corpora of texts have shown their ability to perform new tasks from textual instructions or from a few examples (Brown et al., 2020). These few-shot properties first appeared when scaling models to a sufficient size (Kaplan et al., 2020), resulting in a more work that focuses on further scaling these models (Chowdhery et al., 2022; Rae et al., 2021). These efforts are based on the assumption that more parameters will lead to better performance. However, recent work from Hoffman et al. (2022) shows that, for a given compute budget, the best performances are not achieved by the largest models, but by smaller models trained on more data.\n",
      "\n",
      "The objective of the scaling laws from Hoffmann et al. (2022) is to determine how to best scale the dataset and model sizes for a particular training compute budget. However, this objective disregards the inference budget, which becomes critical when serving a language model at scale. In this context, given a target level of performance, the preferred model is not the fastest to train but the fastest at inference, and although it may be cheaper to train a large model to reach a certain level of\n",
      "\n",
      "$^{*}$ Equal contribution. Correspondence: {$^{thouvron}$, thibautlav, gizacard, egreve, glample}$^{ℓ}$meta.com\n",
      "\n",
      "$^{1}$https://github.com/facebookresearch/llama\n",
      "\n",
      "performance, a smaller one trained longer will ultimately be cheaper at inference. For instance, although Hoffmann et al. (2022) recommends training a 10B model on 200B tokens, we find that the performance of a 7B model continues to improve even after 1T tokens.\n",
      "\n",
      "The focus of this work is to train a series of language models that achieve the best possible performance at various inference budgets, by training on more tokens than what is typically used. The resulting models, called LLaMA , ranges from 7B to 65B parameters with competitive performance compared to the best existing LLMs. For instance, LLaMA-13B outperforms GPT-3 on most benchmarks, despite being 10 × smaller. We believe that this model will help democratize the access and study of LLMs, since it can be run on a single GPU. At the higher-end of the scale, our 65B-parameter model is also competitive with the best large language models such as Chinchilla or PaLM-540B.\n",
      "\n",
      "Unlike Chinchilla, PaLM, or GPT-3, we only use publicly available data, making our work compatible with open-sourcing, while most existing models rely on data which is either not publicly available or undocumented (e.g. \"Books - 2TB\" or \"Social media conversations\"). There exist some exceptions, notably OPT (Zhang et al., 2022), GPT-NeoX (Black et al., 2022), BLOOM (Scao et al., 2022) and GLM (Zeng et al., 2022), but none that are competitive with PaLM-62B or Chinchilla.\n",
      "\n",
      "In the rest of this paper, we present an overview of the modifications we made to the transformer architecture (Vaswani et al., 2017), as well as our training method. We then report the performance of our models and compare with others LLMs on a set of standard benchmarks. Finally, we expose some of the biases and toxicity encoded in our models, using some of the most recent benchmarks from the responsible AI community.\n"
     ]
    }
   ],
   "source": [
    "print(doc.export_to_markdown())"
   ]
  },
  {
   "cell_type": "code",
   "execution_count": null,
   "id": "2dc0e055",
   "metadata": {},
   "outputs": [],
   "source": []
  }
 ],
 "metadata": {
  "kernelspec": {
   "display_name": "ocr",
   "language": "python",
   "name": "python3"
  },
  "language_info": {
   "codemirror_mode": {
    "name": "ipython",
    "version": 3
   },
   "file_extension": ".py",
   "mimetype": "text/x-python",
   "name": "python",
   "nbconvert_exporter": "python",
   "pygments_lexer": "ipython3",
   "version": "3.11.0"
  }
 },
 "nbformat": 4,
 "nbformat_minor": 5
}
